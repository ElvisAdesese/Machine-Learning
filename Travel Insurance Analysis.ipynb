{
 "cells": [
  {
   "cell_type": "code",
   "execution_count": 2,
   "id": "1f5268f3",
   "metadata": {},
   "outputs": [],
   "source": [
    "import pandas as pd\n",
    "import matplotlib.pyplot as plt\n",
    "import seaborn as sns\n",
    "%matplotlib inline\n",
    "import numpy as np"
   ]
  },
  {
   "cell_type": "code",
   "execution_count": 120,
   "id": "d789a515",
   "metadata": {},
   "outputs": [],
   "source": [
    "data = pd.read_csv('travel_insurance.csv')"
   ]
  },
  {
   "cell_type": "code",
   "execution_count": 121,
   "id": "fdb43142",
   "metadata": {},
   "outputs": [
    {
     "data": {
      "text/html": [
       "<div>\n",
       "<style scoped>\n",
       "    .dataframe tbody tr th:only-of-type {\n",
       "        vertical-align: middle;\n",
       "    }\n",
       "\n",
       "    .dataframe tbody tr th {\n",
       "        vertical-align: top;\n",
       "    }\n",
       "\n",
       "    .dataframe thead th {\n",
       "        text-align: right;\n",
       "    }\n",
       "</style>\n",
       "<table border=\"1\" class=\"dataframe\">\n",
       "  <thead>\n",
       "    <tr style=\"text-align: right;\">\n",
       "      <th></th>\n",
       "      <th>Age</th>\n",
       "      <th>Employment Type</th>\n",
       "      <th>GraduateOrNot</th>\n",
       "      <th>AnnualIncome</th>\n",
       "      <th>FamilyMembers</th>\n",
       "      <th>ChronicDiseases</th>\n",
       "      <th>FrequentFlyer</th>\n",
       "      <th>EverTravelledAbroad</th>\n",
       "      <th>TravelInsurance</th>\n",
       "    </tr>\n",
       "  </thead>\n",
       "  <tbody>\n",
       "    <tr>\n",
       "      <th>0</th>\n",
       "      <td>31</td>\n",
       "      <td>Government Sector</td>\n",
       "      <td>Yes</td>\n",
       "      <td>400000</td>\n",
       "      <td>6</td>\n",
       "      <td>1</td>\n",
       "      <td>No</td>\n",
       "      <td>No</td>\n",
       "      <td>0</td>\n",
       "    </tr>\n",
       "    <tr>\n",
       "      <th>1</th>\n",
       "      <td>31</td>\n",
       "      <td>Private Sector/Self Employed</td>\n",
       "      <td>Yes</td>\n",
       "      <td>1250000</td>\n",
       "      <td>7</td>\n",
       "      <td>0</td>\n",
       "      <td>No</td>\n",
       "      <td>No</td>\n",
       "      <td>0</td>\n",
       "    </tr>\n",
       "    <tr>\n",
       "      <th>2</th>\n",
       "      <td>34</td>\n",
       "      <td>Private Sector/Self Employed</td>\n",
       "      <td>Yes</td>\n",
       "      <td>500000</td>\n",
       "      <td>4</td>\n",
       "      <td>1</td>\n",
       "      <td>No</td>\n",
       "      <td>No</td>\n",
       "      <td>1</td>\n",
       "    </tr>\n",
       "    <tr>\n",
       "      <th>3</th>\n",
       "      <td>28</td>\n",
       "      <td>Private Sector/Self Employed</td>\n",
       "      <td>Yes</td>\n",
       "      <td>700000</td>\n",
       "      <td>3</td>\n",
       "      <td>1</td>\n",
       "      <td>No</td>\n",
       "      <td>No</td>\n",
       "      <td>0</td>\n",
       "    </tr>\n",
       "    <tr>\n",
       "      <th>4</th>\n",
       "      <td>28</td>\n",
       "      <td>Private Sector/Self Employed</td>\n",
       "      <td>Yes</td>\n",
       "      <td>700000</td>\n",
       "      <td>8</td>\n",
       "      <td>1</td>\n",
       "      <td>Yes</td>\n",
       "      <td>No</td>\n",
       "      <td>0</td>\n",
       "    </tr>\n",
       "    <tr>\n",
       "      <th>...</th>\n",
       "      <td>...</td>\n",
       "      <td>...</td>\n",
       "      <td>...</td>\n",
       "      <td>...</td>\n",
       "      <td>...</td>\n",
       "      <td>...</td>\n",
       "      <td>...</td>\n",
       "      <td>...</td>\n",
       "      <td>...</td>\n",
       "    </tr>\n",
       "    <tr>\n",
       "      <th>1982</th>\n",
       "      <td>33</td>\n",
       "      <td>Private Sector/Self Employed</td>\n",
       "      <td>Yes</td>\n",
       "      <td>1500000</td>\n",
       "      <td>4</td>\n",
       "      <td>0</td>\n",
       "      <td>Yes</td>\n",
       "      <td>Yes</td>\n",
       "      <td>1</td>\n",
       "    </tr>\n",
       "    <tr>\n",
       "      <th>1983</th>\n",
       "      <td>28</td>\n",
       "      <td>Private Sector/Self Employed</td>\n",
       "      <td>Yes</td>\n",
       "      <td>1750000</td>\n",
       "      <td>5</td>\n",
       "      <td>1</td>\n",
       "      <td>No</td>\n",
       "      <td>Yes</td>\n",
       "      <td>0</td>\n",
       "    </tr>\n",
       "    <tr>\n",
       "      <th>1984</th>\n",
       "      <td>28</td>\n",
       "      <td>Private Sector/Self Employed</td>\n",
       "      <td>Yes</td>\n",
       "      <td>1150000</td>\n",
       "      <td>6</td>\n",
       "      <td>1</td>\n",
       "      <td>No</td>\n",
       "      <td>No</td>\n",
       "      <td>0</td>\n",
       "    </tr>\n",
       "    <tr>\n",
       "      <th>1985</th>\n",
       "      <td>34</td>\n",
       "      <td>Private Sector/Self Employed</td>\n",
       "      <td>Yes</td>\n",
       "      <td>1000000</td>\n",
       "      <td>6</td>\n",
       "      <td>0</td>\n",
       "      <td>Yes</td>\n",
       "      <td>Yes</td>\n",
       "      <td>1</td>\n",
       "    </tr>\n",
       "    <tr>\n",
       "      <th>1986</th>\n",
       "      <td>34</td>\n",
       "      <td>Private Sector/Self Employed</td>\n",
       "      <td>Yes</td>\n",
       "      <td>500000</td>\n",
       "      <td>4</td>\n",
       "      <td>0</td>\n",
       "      <td>No</td>\n",
       "      <td>No</td>\n",
       "      <td>0</td>\n",
       "    </tr>\n",
       "  </tbody>\n",
       "</table>\n",
       "<p>1987 rows × 9 columns</p>\n",
       "</div>"
      ],
      "text/plain": [
       "      Age               Employment Type GraduateOrNot  AnnualIncome  \\\n",
       "0      31             Government Sector           Yes        400000   \n",
       "1      31  Private Sector/Self Employed           Yes       1250000   \n",
       "2      34  Private Sector/Self Employed           Yes        500000   \n",
       "3      28  Private Sector/Self Employed           Yes        700000   \n",
       "4      28  Private Sector/Self Employed           Yes        700000   \n",
       "...   ...                           ...           ...           ...   \n",
       "1982   33  Private Sector/Self Employed           Yes       1500000   \n",
       "1983   28  Private Sector/Self Employed           Yes       1750000   \n",
       "1984   28  Private Sector/Self Employed           Yes       1150000   \n",
       "1985   34  Private Sector/Self Employed           Yes       1000000   \n",
       "1986   34  Private Sector/Self Employed           Yes        500000   \n",
       "\n",
       "      FamilyMembers  ChronicDiseases FrequentFlyer EverTravelledAbroad  \\\n",
       "0                 6                1            No                  No   \n",
       "1                 7                0            No                  No   \n",
       "2                 4                1            No                  No   \n",
       "3                 3                1            No                  No   \n",
       "4                 8                1           Yes                  No   \n",
       "...             ...              ...           ...                 ...   \n",
       "1982              4                0           Yes                 Yes   \n",
       "1983              5                1            No                 Yes   \n",
       "1984              6                1            No                  No   \n",
       "1985              6                0           Yes                 Yes   \n",
       "1986              4                0            No                  No   \n",
       "\n",
       "      TravelInsurance  \n",
       "0                   0  \n",
       "1                   0  \n",
       "2                   1  \n",
       "3                   0  \n",
       "4                   0  \n",
       "...               ...  \n",
       "1982                1  \n",
       "1983                0  \n",
       "1984                0  \n",
       "1985                1  \n",
       "1986                0  \n",
       "\n",
       "[1987 rows x 9 columns]"
      ]
     },
     "execution_count": 121,
     "metadata": {},
     "output_type": "execute_result"
    }
   ],
   "source": [
    "data"
   ]
  },
  {
   "cell_type": "code",
   "execution_count": 5,
   "id": "eba87d29",
   "metadata": {},
   "outputs": [
    {
     "name": "stdout",
     "output_type": "stream",
     "text": [
      "<class 'pandas.core.frame.DataFrame'>\n",
      "RangeIndex: 1987 entries, 0 to 1986\n",
      "Data columns (total 9 columns):\n",
      " #   Column               Non-Null Count  Dtype \n",
      "---  ------               --------------  ----- \n",
      " 0   Age                  1987 non-null   int64 \n",
      " 1   Employment Type      1987 non-null   object\n",
      " 2   GraduateOrNot        1987 non-null   object\n",
      " 3   AnnualIncome         1987 non-null   int64 \n",
      " 4   FamilyMembers        1987 non-null   int64 \n",
      " 5   ChronicDiseases      1987 non-null   int64 \n",
      " 6   FrequentFlyer        1987 non-null   object\n",
      " 7   EverTravelledAbroad  1987 non-null   object\n",
      " 8   TravelInsurance      1987 non-null   int64 \n",
      "dtypes: int64(5), object(4)\n",
      "memory usage: 139.8+ KB\n"
     ]
    }
   ],
   "source": [
    "data.info()"
   ]
  },
  {
   "cell_type": "code",
   "execution_count": 6,
   "id": "90e15b88",
   "metadata": {},
   "outputs": [
    {
     "data": {
      "text/plain": [
       "Age                    0\n",
       "Employment Type        0\n",
       "GraduateOrNot          0\n",
       "AnnualIncome           0\n",
       "FamilyMembers          0\n",
       "ChronicDiseases        0\n",
       "FrequentFlyer          0\n",
       "EverTravelledAbroad    0\n",
       "TravelInsurance        0\n",
       "dtype: int64"
      ]
     },
     "execution_count": 6,
     "metadata": {},
     "output_type": "execute_result"
    }
   ],
   "source": [
    "data.isnull().sum()"
   ]
  },
  {
   "cell_type": "code",
   "execution_count": 7,
   "id": "1569ad59",
   "metadata": {},
   "outputs": [
    {
     "data": {
      "text/plain": [
       "Index(['Age', 'Employment Type', 'GraduateOrNot', 'AnnualIncome',\n",
       "       'FamilyMembers', 'ChronicDiseases', 'FrequentFlyer',\n",
       "       'EverTravelledAbroad', 'TravelInsurance'],\n",
       "      dtype='object')"
      ]
     },
     "execution_count": 7,
     "metadata": {},
     "output_type": "execute_result"
    }
   ],
   "source": [
    "data.columns"
   ]
  },
  {
   "cell_type": "markdown",
   "id": "170dfa88",
   "metadata": {},
   "source": [
    "* 1 indicates those who have traveling insurace while 0 indicates does who don't have\n",
    "* Travel Habit in customers and non Customers.\n",
    "* Does Employment type influence having a traveling insurance?\n",
    "* Is there a corrolation between passengers income and travel Insurance? \n",
    "* Ever traveled Abroad.?\n",
    "* Passengers with travel insurance.\n",
    "* Who are those that most likely to pay for their traveling insurance? \n"
   ]
  },
  {
   "cell_type": "markdown",
   "id": "664d8862",
   "metadata": {},
   "source": [
    "# EXPLORATORY DATA ANALYSIS"
   ]
  },
  {
   "cell_type": "markdown",
   "id": "d2975b09",
   "metadata": {},
   "source": [
    "* Travel Habit in Customers and Non Customers"
   ]
  },
  {
   "cell_type": "code",
   "execution_count": 92,
   "id": "d8e1451c",
   "metadata": {},
   "outputs": [
    {
     "data": {
      "text/plain": [
       "No     1607\n",
       "Yes     380\n",
       "Name: EverTravelledAbroad, dtype: int64"
      ]
     },
     "execution_count": 92,
     "metadata": {},
     "output_type": "execute_result"
    }
   ],
   "source": [
    "#Those who travel abroad are less than those who do \n",
    "data['EverTravelledAbroad'].value_counts()"
   ]
  },
  {
   "cell_type": "code",
   "execution_count": 100,
   "id": "2b13a1a4",
   "metadata": {},
   "outputs": [
    {
     "data": {
      "text/plain": [
       "No     1570\n",
       "Yes     417\n",
       "Name: FrequentFlyer, dtype: int64"
      ]
     },
     "execution_count": 100,
     "metadata": {},
     "output_type": "execute_result"
    }
   ],
   "source": [
    "#Those who are frequent flyers are less than those who do \n",
    "data['FrequentFlyer'].value_counts()"
   ]
  },
  {
   "cell_type": "code",
   "execution_count": 140,
   "id": "00d32b08",
   "metadata": {},
   "outputs": [],
   "source": [
    "#changing data type to get infomation in the Travel Insurance column\n",
    "data['TravelInsurance'] = data['TravelInsurance'].astype(str)"
   ]
  },
  {
   "cell_type": "markdown",
   "id": "461bd61e",
   "metadata": {},
   "source": [
    "* Non Frequent flyers with no travel insurance are 471 people \n",
    "* Frequent flyers with travel insurance are 239 people"
   ]
  },
  {
   "cell_type": "code",
   "execution_count": 10,
   "id": "ffede29e",
   "metadata": {},
   "outputs": [
    {
     "data": {
      "text/plain": [
       "FrequentFlyer\n",
       "No     471\n",
       "Yes    239\n",
       "Name: TravelInsurance, dtype: int64"
      ]
     },
     "execution_count": 10,
     "metadata": {},
     "output_type": "execute_result"
    }
   ],
   "source": [
    "#Non Frequent flyers with no travel insurance are 471 \n",
    "#Frequent flyers with travel insurance are 239\n",
    "data.groupby('FrequentFlyer')['TravelInsurance'].sum()"
   ]
  },
  {
   "cell_type": "markdown",
   "id": "41427990",
   "metadata": {},
   "source": [
    "* Non Abraod Travelers with no travel insurance are 412 people\n",
    "* Abroad Travelers with travel insurance are 298 people"
   ]
  },
  {
   "cell_type": "code",
   "execution_count": 11,
   "id": "feb02755",
   "metadata": {},
   "outputs": [
    {
     "data": {
      "text/plain": [
       "EverTravelledAbroad\n",
       "No     412\n",
       "Yes    298\n",
       "Name: TravelInsurance, dtype: int64"
      ]
     },
     "execution_count": 11,
     "metadata": {},
     "output_type": "execute_result"
    }
   ],
   "source": [
    "#Non Abraod Travelers with no travel insurance are 412 \n",
    "#Abroad Travelers with travel insurance are 298\n",
    "data.groupby('EverTravelledAbroad')['TravelInsurance'].sum()"
   ]
  },
  {
   "cell_type": "code",
   "execution_count": 123,
   "id": "d91f4a74",
   "metadata": {},
   "outputs": [],
   "source": [
    "#Create a dummy dataset\n",
    "dummy= pd.get_dummies(data['FrequentFlyer'])"
   ]
  },
  {
   "cell_type": "code",
   "execution_count": 124,
   "id": "80251afc",
   "metadata": {},
   "outputs": [
    {
     "data": {
      "text/html": [
       "<div>\n",
       "<style scoped>\n",
       "    .dataframe tbody tr th:only-of-type {\n",
       "        vertical-align: middle;\n",
       "    }\n",
       "\n",
       "    .dataframe tbody tr th {\n",
       "        vertical-align: top;\n",
       "    }\n",
       "\n",
       "    .dataframe thead th {\n",
       "        text-align: right;\n",
       "    }\n",
       "</style>\n",
       "<table border=\"1\" class=\"dataframe\">\n",
       "  <thead>\n",
       "    <tr style=\"text-align: right;\">\n",
       "      <th></th>\n",
       "      <th>No</th>\n",
       "      <th>Yes</th>\n",
       "    </tr>\n",
       "  </thead>\n",
       "  <tbody>\n",
       "    <tr>\n",
       "      <th>0</th>\n",
       "      <td>1</td>\n",
       "      <td>0</td>\n",
       "    </tr>\n",
       "    <tr>\n",
       "      <th>1</th>\n",
       "      <td>1</td>\n",
       "      <td>0</td>\n",
       "    </tr>\n",
       "    <tr>\n",
       "      <th>2</th>\n",
       "      <td>1</td>\n",
       "      <td>0</td>\n",
       "    </tr>\n",
       "    <tr>\n",
       "      <th>3</th>\n",
       "      <td>1</td>\n",
       "      <td>0</td>\n",
       "    </tr>\n",
       "    <tr>\n",
       "      <th>4</th>\n",
       "      <td>0</td>\n",
       "      <td>1</td>\n",
       "    </tr>\n",
       "  </tbody>\n",
       "</table>\n",
       "</div>"
      ],
      "text/plain": [
       "   No  Yes\n",
       "0   1    0\n",
       "1   1    0\n",
       "2   1    0\n",
       "3   1    0\n",
       "4   0    1"
      ]
     },
     "execution_count": 124,
     "metadata": {},
     "output_type": "execute_result"
    }
   ],
   "source": [
    "dummy.head()"
   ]
  },
  {
   "cell_type": "code",
   "execution_count": 125,
   "id": "30dfb432",
   "metadata": {},
   "outputs": [],
   "source": [
    "df2=pd.concat((data, dummy), axis=1)"
   ]
  },
  {
   "cell_type": "code",
   "execution_count": 126,
   "id": "12364390",
   "metadata": {},
   "outputs": [],
   "source": [
    "df=df2.drop(['No'],axis=1, inplace=True)"
   ]
  },
  {
   "cell_type": "code",
   "execution_count": 127,
   "id": "7436f3fc",
   "metadata": {},
   "outputs": [],
   "source": [
    "data=df2.rename(columns={'Yes':'Frequent_Flyer_binary'})"
   ]
  },
  {
   "cell_type": "code",
   "execution_count": 20,
   "id": "89cae255",
   "metadata": {},
   "outputs": [
    {
     "data": {
      "text/plain": [
       "array(['Government Sector', 'Private Sector/Self Employed'], dtype=object)"
      ]
     },
     "execution_count": 20,
     "metadata": {},
     "output_type": "execute_result"
    }
   ],
   "source": [
    "data['Employment Type'].unique()"
   ]
  },
  {
   "cell_type": "code",
   "execution_count": 23,
   "id": "d502e443",
   "metadata": {},
   "outputs": [],
   "source": [
    "#changing data type to get infomation in the frequent flyer column\n",
    "data['Frequent_Flyer_binary'] = data['Frequent_Flyer_binary'].astype(str)"
   ]
  },
  {
   "cell_type": "code",
   "execution_count": 136,
   "id": "233be69d",
   "metadata": {},
   "outputs": [
    {
     "data": {
      "text/plain": [
       "0    1277\n",
       "1     710\n",
       "Name: TravelInsurance, dtype: int64"
      ]
     },
     "execution_count": 136,
     "metadata": {},
     "output_type": "execute_result"
    }
   ],
   "source": [
    "#People with traveling insurance are less than those who have  \n",
    "data['TravelInsurance'].value_counts()"
   ]
  },
  {
   "cell_type": "markdown",
   "id": "359aa677",
   "metadata": {},
   "source": [
    "* Does Employment type influence Frequent Flying?"
   ]
  },
  {
   "cell_type": "markdown",
   "id": "a06b15f0",
   "metadata": {},
   "source": [
    "* The  count difference between those who work in the private sector and those who work in the public sector is really large so it wiil be 'somewhat' bias to say based on job category one frquently fly's than the other"
   ]
  },
  {
   "cell_type": "code",
   "execution_count": 148,
   "id": "724467a2",
   "metadata": {},
   "outputs": [
    {
     "data": {
      "text/plain": [
       "Private Sector/Self Employed    1417\n",
       "Government Sector                570\n",
       "Name: Employment Type, dtype: int64"
      ]
     },
     "execution_count": 148,
     "metadata": {},
     "output_type": "execute_result"
    }
   ],
   "source": [
    "data['Employment Type'].value_counts()"
   ]
  },
  {
   "cell_type": "code",
   "execution_count": 151,
   "id": "efe07403",
   "metadata": {},
   "outputs": [
    {
     "data": {
      "text/html": [
       "<style type=\"text/css\">\n",
       "#T_7ae6d_row0_col0, #T_7ae6d_row0_col1 {\n",
       "  background-color: #f7fcf5;\n",
       "  color: #000000;\n",
       "}\n",
       "#T_7ae6d_row1_col0, #T_7ae6d_row1_col1 {\n",
       "  background-color: #00441b;\n",
       "  color: #f1f1f1;\n",
       "}\n",
       "</style>\n",
       "<table id=\"T_7ae6d_\">\n",
       "  <thead>\n",
       "    <tr>\n",
       "      <th class=\"index_name level0\" >FrequentFlyer</th>\n",
       "      <th class=\"col_heading level0 col0\" >No</th>\n",
       "      <th class=\"col_heading level0 col1\" >Yes</th>\n",
       "    </tr>\n",
       "    <tr>\n",
       "      <th class=\"index_name level0\" >Employment Type</th>\n",
       "      <th class=\"blank col0\" >&nbsp;</th>\n",
       "      <th class=\"blank col1\" >&nbsp;</th>\n",
       "    </tr>\n",
       "  </thead>\n",
       "  <tbody>\n",
       "    <tr>\n",
       "      <th id=\"T_7ae6d_level0_row0\" class=\"row_heading level0 row0\" >Government Sector</th>\n",
       "      <td id=\"T_7ae6d_row0_col0\" class=\"data row0 col0\" >503</td>\n",
       "      <td id=\"T_7ae6d_row0_col1\" class=\"data row0 col1\" >67</td>\n",
       "    </tr>\n",
       "    <tr>\n",
       "      <th id=\"T_7ae6d_level0_row1\" class=\"row_heading level0 row1\" >Private Sector/Self Employed</th>\n",
       "      <td id=\"T_7ae6d_row1_col0\" class=\"data row1 col0\" >1067</td>\n",
       "      <td id=\"T_7ae6d_row1_col1\" class=\"data row1 col1\" >350</td>\n",
       "    </tr>\n",
       "  </tbody>\n",
       "</table>\n"
      ],
      "text/plain": [
       "<pandas.io.formats.style.Styler at 0x2bd2a123d30>"
      ]
     },
     "execution_count": 151,
     "metadata": {},
     "output_type": "execute_result"
    }
   ],
   "source": [
    "#Does Employment type influnce Frequent Flying?\n",
    "#Again the large number differnce between the two job categories should be considered \n",
    "df=data.pivot_table(index='Employment Type', columns='FrequentFlyer', aggfunc='size')\n",
    "df.style.background_gradient('Greens')"
   ]
  },
  {
   "cell_type": "code",
   "execution_count": null,
   "id": "fb744c84",
   "metadata": {},
   "outputs": [],
   "source": []
  },
  {
   "cell_type": "markdown",
   "id": "ad063e55",
   "metadata": {},
   "source": [
    "* Does Employment type influence traveling insurance?\n",
    "* Employement type does influence to an extent because even though in the dataset one job category is larger than the other we could see that it is 570 to 847 have their insuranc. Unlike the Government workers were it is 140 to 430"
   ]
  },
  {
   "cell_type": "code",
   "execution_count": 132,
   "id": "e13eb0a8",
   "metadata": {},
   "outputs": [
    {
     "data": {
      "text/html": [
       "<div>\n",
       "<style scoped>\n",
       "    .dataframe tbody tr th:only-of-type {\n",
       "        vertical-align: middle;\n",
       "    }\n",
       "\n",
       "    .dataframe tbody tr th {\n",
       "        vertical-align: top;\n",
       "    }\n",
       "\n",
       "    .dataframe thead th {\n",
       "        text-align: right;\n",
       "    }\n",
       "</style>\n",
       "<table border=\"1\" class=\"dataframe\">\n",
       "  <thead>\n",
       "    <tr style=\"text-align: right;\">\n",
       "      <th>TravelInsurance</th>\n",
       "      <th>0</th>\n",
       "      <th>1</th>\n",
       "    </tr>\n",
       "    <tr>\n",
       "      <th>Employment_Type</th>\n",
       "      <th></th>\n",
       "      <th></th>\n",
       "    </tr>\n",
       "  </thead>\n",
       "  <tbody>\n",
       "    <tr>\n",
       "      <th>Government Sector</th>\n",
       "      <td>430</td>\n",
       "      <td>140</td>\n",
       "    </tr>\n",
       "    <tr>\n",
       "      <th>Private Sector/Self Employed</th>\n",
       "      <td>847</td>\n",
       "      <td>570</td>\n",
       "    </tr>\n",
       "  </tbody>\n",
       "</table>\n",
       "</div>"
      ],
      "text/plain": [
       "TravelInsurance                 0    1\n",
       "Employment_Type                       \n",
       "Government Sector             430  140\n",
       "Private Sector/Self Employed  847  570"
      ]
     },
     "execution_count": 132,
     "metadata": {},
     "output_type": "execute_result"
    }
   ],
   "source": [
    "# Does Employment type influnce traveling insurance \n",
    "df=data.pivot_table(index='Employment_Type', columns='TravelInsurance', aggfunc='size')\n",
    "df.style.background_gradient('Greens')"
   ]
  },
  {
   "cell_type": "code",
   "execution_count": null,
   "id": "f911de2e",
   "metadata": {},
   "outputs": [],
   "source": []
  },
  {
   "cell_type": "markdown",
   "id": "79841bc2",
   "metadata": {},
   "source": [
    "* Is there a corrolation between passengers income and travel Insurance \n",
    "* The Corrolation between Customers anuual income and Travel Insurance is 40%. This is low. However the 40% of people largly come from the private sector\n"
   ]
  },
  {
   "cell_type": "code",
   "execution_count": 129,
   "id": "c5460568",
   "metadata": {},
   "outputs": [
    {
     "data": {
      "text/plain": [
       "AnnualIncome             1.000000\n",
       "TravelInsurance          0.396763\n",
       "Frequent_Flyer_binary    0.353087\n",
       "ChronicDiseases         -0.001149\n",
       "FamilyMembers           -0.015367\n",
       "Age                     -0.020101\n",
       "Name: AnnualIncome, dtype: float64"
      ]
     },
     "execution_count": 129,
     "metadata": {},
     "output_type": "execute_result"
    }
   ],
   "source": [
    "#The Corrolation between Customers anuual income and Travel Insurance is 40%. This is low\n",
    "#This is low. However the 40% of people largly come from the private sector\n",
    "data.corr()['AnnualIncome'].sort_values(ascending=False)"
   ]
  },
  {
   "cell_type": "code",
   "execution_count": null,
   "id": "5ea497e9",
   "metadata": {},
   "outputs": [],
   "source": []
  },
  {
   "cell_type": "markdown",
   "id": "429d6c39",
   "metadata": {},
   "source": [
    "* Who are those that most likely to pay for their traveling insurance?\n",
    "* it seems those within the private/self employed sector earn more and are able to pay for their insurance\n",
    "* There are more Private workers than public workers in the company's data. Thats why it may look as if more money will come from those in the private sectore"
   ]
  },
  {
   "cell_type": "code",
   "execution_count": 145,
   "id": "d45b14f7",
   "metadata": {},
   "outputs": [
    {
     "data": {
      "text/plain": [
       "Employment Type\n",
       "Government Sector                413450000\n",
       "Private Sector/Self Employed    1439950000\n",
       "Name: AnnualIncome, dtype: int64"
      ]
     },
     "execution_count": 145,
     "metadata": {},
     "output_type": "execute_result"
    }
   ],
   "source": [
    "#There are more Private workers than public workers in the company's data. Thats why in the it looks as if more money will cone from those from the private sectore\n",
    "data.groupby('Employment Type')['AnnualIncome'].sum()"
   ]
  },
  {
   "cell_type": "code",
   "execution_count": 55,
   "id": "10aa8972",
   "metadata": {},
   "outputs": [
    {
     "data": {
      "image/png": "[encoded data removed]",
      "text/plain": [
       "<Figure size 489.6x525.6 with 1 Axes>"
      ]
     },
     "metadata": {
      "needs_background": "light"
     },
     "output_type": "display_data"
    }
   ],
   "source": [
    "#Who are those that most likely to pay for their traveling insurance?\n",
    "#it seems those within the private/self employed sector payed for their insurance than those in the public sector\n",
    "plt.figure(figsize = (6.8,7.3))\n",
    "sns.barplot(x='Employment Type', y='AnnualIncome', hue='TravelInsurance', data=data,ci=None, log=True)\n",
    "plt.show()"
   ]
  },
  {
   "cell_type": "markdown",
   "id": "1d5498a6",
   "metadata": {},
   "source": [
    "* Does Annual income influnce Frequent Flying?\n",
    "* Again the large number differnce between the two job categories should be considered "
   ]
  },
  {
   "cell_type": "code",
   "execution_count": 21,
   "id": "37072fd4",
   "metadata": {},
   "outputs": [
    {
     "data": {
      "image/png": "[encoded data removed]",
      "text/plain": [
       "<Figure size 489.6x525.6 with 1 Axes>"
      ]
     },
     "metadata": {
      "needs_background": "light"
     },
     "output_type": "display_data"
    }
   ],
   "source": [
    "#Does Annual income influnce Frequent Flying?\n",
    "#Again the large number differnce between the two job categories should be considered \n",
    "plt.figure(figsize = (6.8,7.3))\n",
    "sns.barplot(x='Employment Type', y='AnnualIncome', hue='Frequent_Flyer_binary', data=data,ci=None, log=True)\n",
    "plt.show()"
   ]
  },
  {
   "cell_type": "code",
   "execution_count": 134,
   "id": "d1285afa",
   "metadata": {},
   "outputs": [
    {
     "data": {
      "text/plain": [
       "<AxesSubplot:ylabel='Frequency'>"
      ]
     },
     "execution_count": 134,
     "metadata": {},
     "output_type": "execute_result"
    },
    {
     "data": {
      "image/png": "[encoded data removed]",
      "text/plain": [
       "<Figure size 432x288 with 1 Axes>"
      ]
     },
     "metadata": {
      "needs_background": "light"
     },
     "output_type": "display_data"
    }
   ],
   "source": [
    "data['Age'].plot(kind='hist')"
   ]
  },
  {
   "cell_type": "markdown",
   "id": "1928085c",
   "metadata": {},
   "source": [
    "# Filter the DataFrame"
   ]
  },
  {
   "cell_type": "code",
   "execution_count": 162,
   "id": "6fd6d095",
   "metadata": {},
   "outputs": [
    {
     "data": {
      "text/html": [
       "<div>\n",
       "<style scoped>\n",
       "    .dataframe tbody tr th:only-of-type {\n",
       "        vertical-align: middle;\n",
       "    }\n",
       "\n",
       "    .dataframe tbody tr th {\n",
       "        vertical-align: top;\n",
       "    }\n",
       "\n",
       "    .dataframe thead th {\n",
       "        text-align: right;\n",
       "    }\n",
       "</style>\n",
       "<table border=\"1\" class=\"dataframe\">\n",
       "  <thead>\n",
       "    <tr style=\"text-align: right;\">\n",
       "      <th></th>\n",
       "      <th>Age</th>\n",
       "      <th>Employment Type</th>\n",
       "      <th>GraduateOrNot</th>\n",
       "      <th>AnnualIncome</th>\n",
       "      <th>FamilyMembers</th>\n",
       "      <th>ChronicDiseases</th>\n",
       "      <th>FrequentFlyer</th>\n",
       "      <th>EverTravelledAbroad</th>\n",
       "      <th>TravelInsurance</th>\n",
       "      <th>Frequent_Flyer_binary</th>\n",
       "    </tr>\n",
       "  </thead>\n",
       "  <tbody>\n",
       "    <tr>\n",
       "      <th>7</th>\n",
       "      <td>31</td>\n",
       "      <td>Private Sector/Self Employed</td>\n",
       "      <td>Yes</td>\n",
       "      <td>1350000</td>\n",
       "      <td>3</td>\n",
       "      <td>0</td>\n",
       "      <td>Yes</td>\n",
       "      <td>Yes</td>\n",
       "      <td>1</td>\n",
       "      <td>1</td>\n",
       "    </tr>\n",
       "    <tr>\n",
       "      <th>8</th>\n",
       "      <td>28</td>\n",
       "      <td>Private Sector/Self Employed</td>\n",
       "      <td>Yes</td>\n",
       "      <td>1450000</td>\n",
       "      <td>6</td>\n",
       "      <td>1</td>\n",
       "      <td>Yes</td>\n",
       "      <td>Yes</td>\n",
       "      <td>1</td>\n",
       "      <td>1</td>\n",
       "    </tr>\n",
       "    <tr>\n",
       "      <th>11</th>\n",
       "      <td>26</td>\n",
       "      <td>Private Sector/Self Employed</td>\n",
       "      <td>Yes</td>\n",
       "      <td>1400000</td>\n",
       "      <td>5</td>\n",
       "      <td>0</td>\n",
       "      <td>Yes</td>\n",
       "      <td>Yes</td>\n",
       "      <td>1</td>\n",
       "      <td>1</td>\n",
       "    </tr>\n",
       "    <tr>\n",
       "      <th>13</th>\n",
       "      <td>31</td>\n",
       "      <td>Government Sector</td>\n",
       "      <td>Yes</td>\n",
       "      <td>1500000</td>\n",
       "      <td>6</td>\n",
       "      <td>0</td>\n",
       "      <td>Yes</td>\n",
       "      <td>Yes</td>\n",
       "      <td>1</td>\n",
       "      <td>1</td>\n",
       "    </tr>\n",
       "    <tr>\n",
       "      <th>19</th>\n",
       "      <td>34</td>\n",
       "      <td>Private Sector/Self Employed</td>\n",
       "      <td>Yes</td>\n",
       "      <td>1500000</td>\n",
       "      <td>2</td>\n",
       "      <td>0</td>\n",
       "      <td>Yes</td>\n",
       "      <td>Yes</td>\n",
       "      <td>1</td>\n",
       "      <td>1</td>\n",
       "    </tr>\n",
       "  </tbody>\n",
       "</table>\n",
       "</div>"
      ],
      "text/plain": [
       "    Age               Employment Type GraduateOrNot  AnnualIncome  \\\n",
       "7    31  Private Sector/Self Employed           Yes       1350000   \n",
       "8    28  Private Sector/Self Employed           Yes       1450000   \n",
       "11   26  Private Sector/Self Employed           Yes       1400000   \n",
       "13   31             Government Sector           Yes       1500000   \n",
       "19   34  Private Sector/Self Employed           Yes       1500000   \n",
       "\n",
       "    FamilyMembers  ChronicDiseases FrequentFlyer EverTravelledAbroad  \\\n",
       "7               3                0           Yes                 Yes   \n",
       "8               6                1           Yes                 Yes   \n",
       "11              5                0           Yes                 Yes   \n",
       "13              6                0           Yes                 Yes   \n",
       "19              2                0           Yes                 Yes   \n",
       "\n",
       "   TravelInsurance  Frequent_Flyer_binary  \n",
       "7                1                      1  \n",
       "8                1                      1  \n",
       "11               1                      1  \n",
       "13               1                      1  \n",
       "19               1                      1  "
      ]
     },
     "execution_count": 162,
     "metadata": {},
     "output_type": "execute_result"
    }
   ],
   "source": [
    "#Frequent flyers who have travel insurance \n",
    "data[(data.FrequentFlyer== 'Yes' ) & (data.TravelInsurance== '1')].head()"
   ]
  },
  {
   "cell_type": "code",
   "execution_count": 163,
   "id": "4fd4c489",
   "metadata": {},
   "outputs": [
    {
     "data": {
      "text/html": [
       "<div>\n",
       "<style scoped>\n",
       "    .dataframe tbody tr th:only-of-type {\n",
       "        vertical-align: middle;\n",
       "    }\n",
       "\n",
       "    .dataframe tbody tr th {\n",
       "        vertical-align: top;\n",
       "    }\n",
       "\n",
       "    .dataframe thead th {\n",
       "        text-align: right;\n",
       "    }\n",
       "</style>\n",
       "<table border=\"1\" class=\"dataframe\">\n",
       "  <thead>\n",
       "    <tr style=\"text-align: right;\">\n",
       "      <th></th>\n",
       "      <th>Age</th>\n",
       "      <th>Employment Type</th>\n",
       "      <th>GraduateOrNot</th>\n",
       "      <th>AnnualIncome</th>\n",
       "      <th>FamilyMembers</th>\n",
       "      <th>ChronicDiseases</th>\n",
       "      <th>FrequentFlyer</th>\n",
       "      <th>EverTravelledAbroad</th>\n",
       "      <th>TravelInsurance</th>\n",
       "      <th>Frequent_Flyer_binary</th>\n",
       "    </tr>\n",
       "  </thead>\n",
       "  <tbody>\n",
       "    <tr>\n",
       "      <th>4</th>\n",
       "      <td>28</td>\n",
       "      <td>Private Sector/Self Employed</td>\n",
       "      <td>Yes</td>\n",
       "      <td>700000</td>\n",
       "      <td>8</td>\n",
       "      <td>1</td>\n",
       "      <td>Yes</td>\n",
       "      <td>No</td>\n",
       "      <td>0</td>\n",
       "      <td>1</td>\n",
       "    </tr>\n",
       "    <tr>\n",
       "      <th>9</th>\n",
       "      <td>33</td>\n",
       "      <td>Government Sector</td>\n",
       "      <td>Yes</td>\n",
       "      <td>800000</td>\n",
       "      <td>3</td>\n",
       "      <td>0</td>\n",
       "      <td>Yes</td>\n",
       "      <td>No</td>\n",
       "      <td>0</td>\n",
       "      <td>1</td>\n",
       "    </tr>\n",
       "    <tr>\n",
       "      <th>20</th>\n",
       "      <td>28</td>\n",
       "      <td>Private Sector/Self Employed</td>\n",
       "      <td>Yes</td>\n",
       "      <td>1150000</td>\n",
       "      <td>6</td>\n",
       "      <td>0</td>\n",
       "      <td>Yes</td>\n",
       "      <td>No</td>\n",
       "      <td>0</td>\n",
       "      <td>1</td>\n",
       "    </tr>\n",
       "    <tr>\n",
       "      <th>24</th>\n",
       "      <td>31</td>\n",
       "      <td>Government Sector</td>\n",
       "      <td>Yes</td>\n",
       "      <td>1500000</td>\n",
       "      <td>7</td>\n",
       "      <td>0</td>\n",
       "      <td>Yes</td>\n",
       "      <td>Yes</td>\n",
       "      <td>0</td>\n",
       "      <td>1</td>\n",
       "    </tr>\n",
       "    <tr>\n",
       "      <th>27</th>\n",
       "      <td>28</td>\n",
       "      <td>Private Sector/Self Employed</td>\n",
       "      <td>Yes</td>\n",
       "      <td>1250000</td>\n",
       "      <td>2</td>\n",
       "      <td>0</td>\n",
       "      <td>Yes</td>\n",
       "      <td>No</td>\n",
       "      <td>0</td>\n",
       "      <td>1</td>\n",
       "    </tr>\n",
       "  </tbody>\n",
       "</table>\n",
       "</div>"
      ],
      "text/plain": [
       "    Age               Employment Type GraduateOrNot  AnnualIncome  \\\n",
       "4    28  Private Sector/Self Employed           Yes        700000   \n",
       "9    33             Government Sector           Yes        800000   \n",
       "20   28  Private Sector/Self Employed           Yes       1150000   \n",
       "24   31             Government Sector           Yes       1500000   \n",
       "27   28  Private Sector/Self Employed           Yes       1250000   \n",
       "\n",
       "    FamilyMembers  ChronicDiseases FrequentFlyer EverTravelledAbroad  \\\n",
       "4               8                1           Yes                  No   \n",
       "9               3                0           Yes                  No   \n",
       "20              6                0           Yes                  No   \n",
       "24              7                0           Yes                 Yes   \n",
       "27              2                0           Yes                  No   \n",
       "\n",
       "   TravelInsurance  Frequent_Flyer_binary  \n",
       "4                0                      1  \n",
       "9                0                      1  \n",
       "20               0                      1  \n",
       "24               0                      1  \n",
       "27               0                      1  "
      ]
     },
     "execution_count": 163,
     "metadata": {},
     "output_type": "execute_result"
    }
   ],
   "source": [
    "#Frequent flyers who don't have travel insurance\n",
    "data[(data.FrequentFlyer== 'Yes' ) & (data.TravelInsurance== '0')].head()"
   ]
  },
  {
   "cell_type": "code",
   "execution_count": 165,
   "id": "76345f04",
   "metadata": {},
   "outputs": [
    {
     "data": {
      "text/html": [
       "<div>\n",
       "<style scoped>\n",
       "    .dataframe tbody tr th:only-of-type {\n",
       "        vertical-align: middle;\n",
       "    }\n",
       "\n",
       "    .dataframe tbody tr th {\n",
       "        vertical-align: top;\n",
       "    }\n",
       "\n",
       "    .dataframe thead th {\n",
       "        text-align: right;\n",
       "    }\n",
       "</style>\n",
       "<table border=\"1\" class=\"dataframe\">\n",
       "  <thead>\n",
       "    <tr style=\"text-align: right;\">\n",
       "      <th></th>\n",
       "      <th>Age</th>\n",
       "      <th>Employment Type</th>\n",
       "      <th>GraduateOrNot</th>\n",
       "      <th>AnnualIncome</th>\n",
       "      <th>FamilyMembers</th>\n",
       "      <th>ChronicDiseases</th>\n",
       "      <th>FrequentFlyer</th>\n",
       "      <th>EverTravelledAbroad</th>\n",
       "      <th>TravelInsurance</th>\n",
       "      <th>Frequent_Flyer_binary</th>\n",
       "    </tr>\n",
       "  </thead>\n",
       "  <tbody>\n",
       "    <tr>\n",
       "      <th>2</th>\n",
       "      <td>34</td>\n",
       "      <td>Private Sector/Self Employed</td>\n",
       "      <td>Yes</td>\n",
       "      <td>500000</td>\n",
       "      <td>4</td>\n",
       "      <td>1</td>\n",
       "      <td>No</td>\n",
       "      <td>No</td>\n",
       "      <td>1</td>\n",
       "      <td>0</td>\n",
       "    </tr>\n",
       "    <tr>\n",
       "      <th>12</th>\n",
       "      <td>32</td>\n",
       "      <td>Government Sector</td>\n",
       "      <td>Yes</td>\n",
       "      <td>850000</td>\n",
       "      <td>6</td>\n",
       "      <td>0</td>\n",
       "      <td>No</td>\n",
       "      <td>No</td>\n",
       "      <td>1</td>\n",
       "      <td>0</td>\n",
       "    </tr>\n",
       "    <tr>\n",
       "      <th>17</th>\n",
       "      <td>28</td>\n",
       "      <td>Private Sector/Self Employed</td>\n",
       "      <td>Yes</td>\n",
       "      <td>800000</td>\n",
       "      <td>7</td>\n",
       "      <td>0</td>\n",
       "      <td>No</td>\n",
       "      <td>No</td>\n",
       "      <td>1</td>\n",
       "      <td>0</td>\n",
       "    </tr>\n",
       "    <tr>\n",
       "      <th>18</th>\n",
       "      <td>29</td>\n",
       "      <td>Private Sector/Self Employed</td>\n",
       "      <td>Yes</td>\n",
       "      <td>1050000</td>\n",
       "      <td>5</td>\n",
       "      <td>1</td>\n",
       "      <td>No</td>\n",
       "      <td>No</td>\n",
       "      <td>1</td>\n",
       "      <td>0</td>\n",
       "    </tr>\n",
       "    <tr>\n",
       "      <th>21</th>\n",
       "      <td>29</td>\n",
       "      <td>Private Sector/Self Employed</td>\n",
       "      <td>Yes</td>\n",
       "      <td>350000</td>\n",
       "      <td>3</td>\n",
       "      <td>0</td>\n",
       "      <td>No</td>\n",
       "      <td>No</td>\n",
       "      <td>1</td>\n",
       "      <td>0</td>\n",
       "    </tr>\n",
       "  </tbody>\n",
       "</table>\n",
       "</div>"
      ],
      "text/plain": [
       "    Age               Employment Type GraduateOrNot  AnnualIncome  \\\n",
       "2    34  Private Sector/Self Employed           Yes        500000   \n",
       "12   32             Government Sector           Yes        850000   \n",
       "17   28  Private Sector/Self Employed           Yes        800000   \n",
       "18   29  Private Sector/Self Employed           Yes       1050000   \n",
       "21   29  Private Sector/Self Employed           Yes        350000   \n",
       "\n",
       "    FamilyMembers  ChronicDiseases FrequentFlyer EverTravelledAbroad  \\\n",
       "2               4                1            No                  No   \n",
       "12              6                0            No                  No   \n",
       "17              7                0            No                  No   \n",
       "18              5                1            No                  No   \n",
       "21              3                0            No                  No   \n",
       "\n",
       "   TravelInsurance  Frequent_Flyer_binary  \n",
       "2                1                      0  \n",
       "12               1                      0  \n",
       "17               1                      0  \n",
       "18               1                      0  \n",
       "21               1                      0  "
      ]
     },
     "execution_count": 165,
     "metadata": {},
     "output_type": "execute_result"
    }
   ],
   "source": [
    "#non Frequent flyers who have travel insurance\n",
    "data[(data.FrequentFlyer== 'No' ) & (data.TravelInsurance== '1')].head()"
   ]
  },
  {
   "cell_type": "code",
   "execution_count": 166,
   "id": "df5033b5",
   "metadata": {},
   "outputs": [
    {
     "data": {
      "text/html": [
       "<div>\n",
       "<style scoped>\n",
       "    .dataframe tbody tr th:only-of-type {\n",
       "        vertical-align: middle;\n",
       "    }\n",
       "\n",
       "    .dataframe tbody tr th {\n",
       "        vertical-align: top;\n",
       "    }\n",
       "\n",
       "    .dataframe thead th {\n",
       "        text-align: right;\n",
       "    }\n",
       "</style>\n",
       "<table border=\"1\" class=\"dataframe\">\n",
       "  <thead>\n",
       "    <tr style=\"text-align: right;\">\n",
       "      <th></th>\n",
       "      <th>Age</th>\n",
       "      <th>Employment Type</th>\n",
       "      <th>GraduateOrNot</th>\n",
       "      <th>AnnualIncome</th>\n",
       "      <th>FamilyMembers</th>\n",
       "      <th>ChronicDiseases</th>\n",
       "      <th>FrequentFlyer</th>\n",
       "      <th>EverTravelledAbroad</th>\n",
       "      <th>TravelInsurance</th>\n",
       "      <th>Frequent_Flyer_binary</th>\n",
       "    </tr>\n",
       "  </thead>\n",
       "  <tbody>\n",
       "    <tr>\n",
       "      <th>0</th>\n",
       "      <td>31</td>\n",
       "      <td>Government Sector</td>\n",
       "      <td>Yes</td>\n",
       "      <td>400000</td>\n",
       "      <td>6</td>\n",
       "      <td>1</td>\n",
       "      <td>No</td>\n",
       "      <td>No</td>\n",
       "      <td>0</td>\n",
       "      <td>0</td>\n",
       "    </tr>\n",
       "    <tr>\n",
       "      <th>1</th>\n",
       "      <td>31</td>\n",
       "      <td>Private Sector/Self Employed</td>\n",
       "      <td>Yes</td>\n",
       "      <td>1250000</td>\n",
       "      <td>7</td>\n",
       "      <td>0</td>\n",
       "      <td>No</td>\n",
       "      <td>No</td>\n",
       "      <td>0</td>\n",
       "      <td>0</td>\n",
       "    </tr>\n",
       "    <tr>\n",
       "      <th>3</th>\n",
       "      <td>28</td>\n",
       "      <td>Private Sector/Self Employed</td>\n",
       "      <td>Yes</td>\n",
       "      <td>700000</td>\n",
       "      <td>3</td>\n",
       "      <td>1</td>\n",
       "      <td>No</td>\n",
       "      <td>No</td>\n",
       "      <td>0</td>\n",
       "      <td>0</td>\n",
       "    </tr>\n",
       "    <tr>\n",
       "      <th>5</th>\n",
       "      <td>25</td>\n",
       "      <td>Private Sector/Self Employed</td>\n",
       "      <td>No</td>\n",
       "      <td>1150000</td>\n",
       "      <td>4</td>\n",
       "      <td>0</td>\n",
       "      <td>No</td>\n",
       "      <td>No</td>\n",
       "      <td>0</td>\n",
       "      <td>0</td>\n",
       "    </tr>\n",
       "    <tr>\n",
       "      <th>6</th>\n",
       "      <td>31</td>\n",
       "      <td>Government Sector</td>\n",
       "      <td>Yes</td>\n",
       "      <td>1300000</td>\n",
       "      <td>4</td>\n",
       "      <td>0</td>\n",
       "      <td>No</td>\n",
       "      <td>No</td>\n",
       "      <td>0</td>\n",
       "      <td>0</td>\n",
       "    </tr>\n",
       "  </tbody>\n",
       "</table>\n",
       "</div>"
      ],
      "text/plain": [
       "   Age               Employment Type GraduateOrNot  AnnualIncome  \\\n",
       "0   31             Government Sector           Yes        400000   \n",
       "1   31  Private Sector/Self Employed           Yes       1250000   \n",
       "3   28  Private Sector/Self Employed           Yes        700000   \n",
       "5   25  Private Sector/Self Employed            No       1150000   \n",
       "6   31             Government Sector           Yes       1300000   \n",
       "\n",
       "   FamilyMembers  ChronicDiseases FrequentFlyer EverTravelledAbroad  \\\n",
       "0              6                1            No                  No   \n",
       "1              7                0            No                  No   \n",
       "3              3                1            No                  No   \n",
       "5              4                0            No                  No   \n",
       "6              4                0            No                  No   \n",
       "\n",
       "  TravelInsurance  Frequent_Flyer_binary  \n",
       "0               0                      0  \n",
       "1               0                      0  \n",
       "3               0                      0  \n",
       "5               0                      0  \n",
       "6               0                      0  "
      ]
     },
     "execution_count": 166,
     "metadata": {},
     "output_type": "execute_result"
    }
   ],
   "source": [
    "#non Frequent flyers who do not have travel insurance\n",
    "data[(data.FrequentFlyer== 'No' ) & (data.TravelInsurance== '0')].head()"
   ]
  },
  {
   "cell_type": "code",
   "execution_count": 174,
   "id": "10c52365",
   "metadata": {},
   "outputs": [],
   "source": [
    "#Frequent flyers dataframe\n",
    "FrequentFlyer=data[(data.FrequentFlyer== 'Yes')]"
   ]
  },
  {
   "cell_type": "code",
   "execution_count": 175,
   "id": "a821cff7",
   "metadata": {},
   "outputs": [
    {
     "data": {
      "text/plain": [
       "(417, 10)"
      ]
     },
     "execution_count": 175,
     "metadata": {},
     "output_type": "execute_result"
    }
   ],
   "source": [
    "frq.shape"
   ]
  },
  {
   "cell_type": "code",
   "execution_count": 176,
   "id": "a537840f",
   "metadata": {},
   "outputs": [],
   "source": [
    "#nonFrequent flyers dataframe\n",
    "nonFrequentFlyer=data[(data.FrequentFlyer== 'No')]"
   ]
  },
  {
   "cell_type": "code",
   "execution_count": 177,
   "id": "410a9a80",
   "metadata": {},
   "outputs": [
    {
     "data": {
      "text/plain": [
       "(1570, 10)"
      ]
     },
     "execution_count": 177,
     "metadata": {},
     "output_type": "execute_result"
    }
   ],
   "source": [
    "nonFrequentFlyer.shape"
   ]
  },
  {
   "cell_type": "code",
   "execution_count": 194,
   "id": "ab3a1154",
   "metadata": {},
   "outputs": [],
   "source": [
    "#People with Travel Insurance\n",
    "insurance_holders=data[(data.TravelInsurance== '1')]"
   ]
  },
  {
   "cell_type": "code",
   "execution_count": 196,
   "id": "d1f69fd1",
   "metadata": {},
   "outputs": [
    {
     "data": {
      "text/plain": [
       "(710, 10)"
      ]
     },
     "execution_count": 196,
     "metadata": {},
     "output_type": "execute_result"
    }
   ],
   "source": [
    "insurance_holders.shape"
   ]
  },
  {
   "cell_type": "code",
   "execution_count": 197,
   "id": "b3deebd3",
   "metadata": {},
   "outputs": [],
   "source": [
    "#People with Travel Insurance\n",
    "noninsurance_holders=data[(data.TravelInsurance== '0')]"
   ]
  },
  {
   "cell_type": "code",
   "execution_count": 198,
   "id": "eb087aa7",
   "metadata": {},
   "outputs": [
    {
     "data": {
      "text/plain": [
       "(1277, 10)"
      ]
     },
     "execution_count": 198,
     "metadata": {},
     "output_type": "execute_result"
    }
   ],
   "source": [
    "noninsurance_holders.shape"
   ]
  },
  {
   "cell_type": "code",
   "execution_count": 191,
   "id": "8e979f6a",
   "metadata": {},
   "outputs": [
    {
     "data": {
      "text/html": [
       "<style type=\"text/css\">\n",
       "#T_c9efb_row0_col0, #T_c9efb_row24_col0 {\n",
       "  background-color: #f7fcf5;\n",
       "  color: #000000;\n",
       "}\n",
       "#T_c9efb_row1_col0 {\n",
       "  background-color: #dcf2d7;\n",
       "  color: #000000;\n",
       "}\n",
       "#T_c9efb_row2_col0 {\n",
       "  background-color: #c4e8bd;\n",
       "  color: #000000;\n",
       "}\n",
       "#T_c9efb_row3_col0 {\n",
       "  background-color: #eff9eb;\n",
       "  color: #000000;\n",
       "}\n",
       "#T_c9efb_row4_col0 {\n",
       "  background-color: #d1edcb;\n",
       "  color: #000000;\n",
       "}\n",
       "#T_c9efb_row5_col0, #T_c9efb_row11_col0, #T_c9efb_row13_col0, #T_c9efb_row14_col0 {\n",
       "  background-color: #e0f3db;\n",
       "  color: #000000;\n",
       "}\n",
       "#T_c9efb_row6_col0 {\n",
       "  background-color: #bde5b6;\n",
       "  color: #000000;\n",
       "}\n",
       "#T_c9efb_row7_col0 {\n",
       "  background-color: #e5f5e1;\n",
       "  color: #000000;\n",
       "}\n",
       "#T_c9efb_row8_col0 {\n",
       "  background-color: #ceecc8;\n",
       "  color: #000000;\n",
       "}\n",
       "#T_c9efb_row9_col0, #T_c9efb_row16_col0, #T_c9efb_row17_col0 {\n",
       "  background-color: #ebf7e7;\n",
       "  color: #000000;\n",
       "}\n",
       "#T_c9efb_row10_col0 {\n",
       "  background-color: #e7f6e3;\n",
       "  color: #000000;\n",
       "}\n",
       "#T_c9efb_row12_col0 {\n",
       "  background-color: #d4eece;\n",
       "  color: #000000;\n",
       "}\n",
       "#T_c9efb_row15_col0 {\n",
       "  background-color: #edf8e9;\n",
       "  color: #000000;\n",
       "}\n",
       "#T_c9efb_row18_col0 {\n",
       "  background-color: #a7dba0;\n",
       "  color: #000000;\n",
       "}\n",
       "#T_c9efb_row19_col0 {\n",
       "  background-color: #a3da9d;\n",
       "  color: #000000;\n",
       "}\n",
       "#T_c9efb_row20_col0 {\n",
       "  background-color: #00441b;\n",
       "  color: #f1f1f1;\n",
       "}\n",
       "#T_c9efb_row21_col0 {\n",
       "  background-color: #f0f9ed;\n",
       "  color: #000000;\n",
       "}\n",
       "#T_c9efb_row22_col0 {\n",
       "  background-color: #f5fbf3;\n",
       "  color: #000000;\n",
       "}\n",
       "#T_c9efb_row23_col0 {\n",
       "  background-color: #88ce87;\n",
       "  color: #000000;\n",
       "}\n",
       "#T_c9efb_row25_col0 {\n",
       "  background-color: #f2faef;\n",
       "  color: #000000;\n",
       "}\n",
       "</style>\n",
       "<table id=\"T_c9efb_\">\n",
       "  <thead>\n",
       "    <tr>\n",
       "      <th class=\"index_name level0\" >FrequentFlyer</th>\n",
       "      <th class=\"col_heading level0 col0\" >Yes</th>\n",
       "    </tr>\n",
       "    <tr>\n",
       "      <th class=\"index_name level0\" >AnnualIncome</th>\n",
       "      <th class=\"blank col0\" >&nbsp;</th>\n",
       "    </tr>\n",
       "  </thead>\n",
       "  <tbody>\n",
       "    <tr>\n",
       "      <th id=\"T_c9efb_level0_row0\" class=\"row_heading level0 row0\" >500000</th>\n",
       "      <td id=\"T_c9efb_row0_col0\" class=\"data row0 col0\" >1</td>\n",
       "    </tr>\n",
       "    <tr>\n",
       "      <th id=\"T_c9efb_level0_row1\" class=\"row_heading level0 row1\" >550000</th>\n",
       "      <td id=\"T_c9efb_row1_col0\" class=\"data row1 col0\" >14</td>\n",
       "    </tr>\n",
       "    <tr>\n",
       "      <th id=\"T_c9efb_level0_row2\" class=\"row_heading level0 row2\" >600000</th>\n",
       "      <td id=\"T_c9efb_row2_col0\" class=\"data row2 col0\" >22</td>\n",
       "    </tr>\n",
       "    <tr>\n",
       "      <th id=\"T_c9efb_level0_row3\" class=\"row_heading level0 row3\" >650000</th>\n",
       "      <td id=\"T_c9efb_row3_col0\" class=\"data row3 col0\" >6</td>\n",
       "    </tr>\n",
       "    <tr>\n",
       "      <th id=\"T_c9efb_level0_row4\" class=\"row_heading level0 row4\" >700000</th>\n",
       "      <td id=\"T_c9efb_row4_col0\" class=\"data row4 col0\" >18</td>\n",
       "    </tr>\n",
       "    <tr>\n",
       "      <th id=\"T_c9efb_level0_row5\" class=\"row_heading level0 row5\" >750000</th>\n",
       "      <td id=\"T_c9efb_row5_col0\" class=\"data row5 col0\" >13</td>\n",
       "    </tr>\n",
       "    <tr>\n",
       "      <th id=\"T_c9efb_level0_row6\" class=\"row_heading level0 row6\" >800000</th>\n",
       "      <td id=\"T_c9efb_row6_col0\" class=\"data row6 col0\" >24</td>\n",
       "    </tr>\n",
       "    <tr>\n",
       "      <th id=\"T_c9efb_level0_row7\" class=\"row_heading level0 row7\" >850000</th>\n",
       "      <td id=\"T_c9efb_row7_col0\" class=\"data row7 col0\" >11</td>\n",
       "    </tr>\n",
       "    <tr>\n",
       "      <th id=\"T_c9efb_level0_row8\" class=\"row_heading level0 row8\" >900000</th>\n",
       "      <td id=\"T_c9efb_row8_col0\" class=\"data row8 col0\" >19</td>\n",
       "    </tr>\n",
       "    <tr>\n",
       "      <th id=\"T_c9efb_level0_row9\" class=\"row_heading level0 row9\" >950000</th>\n",
       "      <td id=\"T_c9efb_row9_col0\" class=\"data row9 col0\" >8</td>\n",
       "    </tr>\n",
       "    <tr>\n",
       "      <th id=\"T_c9efb_level0_row10\" class=\"row_heading level0 row10\" >1000000</th>\n",
       "      <td id=\"T_c9efb_row10_col0\" class=\"data row10 col0\" >10</td>\n",
       "    </tr>\n",
       "    <tr>\n",
       "      <th id=\"T_c9efb_level0_row11\" class=\"row_heading level0 row11\" >1050000</th>\n",
       "      <td id=\"T_c9efb_row11_col0\" class=\"data row11 col0\" >13</td>\n",
       "    </tr>\n",
       "    <tr>\n",
       "      <th id=\"T_c9efb_level0_row12\" class=\"row_heading level0 row12\" >1100000</th>\n",
       "      <td id=\"T_c9efb_row12_col0\" class=\"data row12 col0\" >17</td>\n",
       "    </tr>\n",
       "    <tr>\n",
       "      <th id=\"T_c9efb_level0_row13\" class=\"row_heading level0 row13\" >1150000</th>\n",
       "      <td id=\"T_c9efb_row13_col0\" class=\"data row13 col0\" >13</td>\n",
       "    </tr>\n",
       "    <tr>\n",
       "      <th id=\"T_c9efb_level0_row14\" class=\"row_heading level0 row14\" >1200000</th>\n",
       "      <td id=\"T_c9efb_row14_col0\" class=\"data row14 col0\" >13</td>\n",
       "    </tr>\n",
       "    <tr>\n",
       "      <th id=\"T_c9efb_level0_row15\" class=\"row_heading level0 row15\" >1250000</th>\n",
       "      <td id=\"T_c9efb_row15_col0\" class=\"data row15 col0\" >7</td>\n",
       "    </tr>\n",
       "    <tr>\n",
       "      <th id=\"T_c9efb_level0_row16\" class=\"row_heading level0 row16\" >1300000</th>\n",
       "      <td id=\"T_c9efb_row16_col0\" class=\"data row16 col0\" >8</td>\n",
       "    </tr>\n",
       "    <tr>\n",
       "      <th id=\"T_c9efb_level0_row17\" class=\"row_heading level0 row17\" >1350000</th>\n",
       "      <td id=\"T_c9efb_row17_col0\" class=\"data row17 col0\" >8</td>\n",
       "    </tr>\n",
       "    <tr>\n",
       "      <th id=\"T_c9efb_level0_row18\" class=\"row_heading level0 row18\" >1400000</th>\n",
       "      <td id=\"T_c9efb_row18_col0\" class=\"data row18 col0\" >30</td>\n",
       "    </tr>\n",
       "    <tr>\n",
       "      <th id=\"T_c9efb_level0_row19\" class=\"row_heading level0 row19\" >1450000</th>\n",
       "      <td id=\"T_c9efb_row19_col0\" class=\"data row19 col0\" >31</td>\n",
       "    </tr>\n",
       "    <tr>\n",
       "      <th id=\"T_c9efb_level0_row20\" class=\"row_heading level0 row20\" >1500000</th>\n",
       "      <td id=\"T_c9efb_row20_col0\" class=\"data row20 col0\" >82</td>\n",
       "    </tr>\n",
       "    <tr>\n",
       "      <th id=\"T_c9efb_level0_row21\" class=\"row_heading level0 row21\" >1550000</th>\n",
       "      <td id=\"T_c9efb_row21_col0\" class=\"data row21 col0\" >5</td>\n",
       "    </tr>\n",
       "    <tr>\n",
       "      <th id=\"T_c9efb_level0_row22\" class=\"row_heading level0 row22\" >1650000</th>\n",
       "      <td id=\"T_c9efb_row22_col0\" class=\"data row22 col0\" >2</td>\n",
       "    </tr>\n",
       "    <tr>\n",
       "      <th id=\"T_c9efb_level0_row23\" class=\"row_heading level0 row23\" >1700000</th>\n",
       "      <td id=\"T_c9efb_row23_col0\" class=\"data row23 col0\" >37</td>\n",
       "    </tr>\n",
       "    <tr>\n",
       "      <th id=\"T_c9efb_level0_row24\" class=\"row_heading level0 row24\" >1750000</th>\n",
       "      <td id=\"T_c9efb_row24_col0\" class=\"data row24 col0\" >1</td>\n",
       "    </tr>\n",
       "    <tr>\n",
       "      <th id=\"T_c9efb_level0_row25\" class=\"row_heading level0 row25\" >1800000</th>\n",
       "      <td id=\"T_c9efb_row25_col0\" class=\"data row25 col0\" >4</td>\n",
       "    </tr>\n",
       "  </tbody>\n",
       "</table>\n"
      ],
      "text/plain": [
       "<pandas.io.formats.style.Styler at 0x2bd2a11e820>"
      ]
     },
     "execution_count": 191,
     "metadata": {},
     "output_type": "execute_result"
    }
   ],
   "source": [
    "#FrequentFlyer.groupby('AnnualIncome')['FrequentFlyer'].sum()\n",
    "#FrequentFlyer.groupby('AnnualIncome')['FrequentFlyer'].value_counts()\n",
    "df=FrequentFlyer.pivot_table(index='AnnualIncome', columns='FrequentFlyer', aggfunc='size')\n",
    "df.style.background_gradient('Greens')"
   ]
  },
  {
   "cell_type": "code",
   "execution_count": 193,
   "id": "b9c56c01",
   "metadata": {},
   "outputs": [
    {
     "data": {
      "text/html": [
       "<style type=\"text/css\">\n",
       "#T_072da_row0_col0 {\n",
       "  background-color: #53b466;\n",
       "  color: #f1f1f1;\n",
       "}\n",
       "#T_072da_row1_col0 {\n",
       "  background-color: #b0dfaa;\n",
       "  color: #000000;\n",
       "}\n",
       "#T_072da_row2_col0 {\n",
       "  background-color: #97d492;\n",
       "  color: #000000;\n",
       "}\n",
       "#T_072da_row3_col0 {\n",
       "  background-color: #f5fbf3;\n",
       "  color: #000000;\n",
       "}\n",
       "#T_072da_row4_col0 {\n",
       "  background-color: #00441b;\n",
       "  color: #f1f1f1;\n",
       "}\n",
       "#T_072da_row5_col0 {\n",
       "  background-color: #91d28e;\n",
       "  color: #000000;\n",
       "}\n",
       "#T_072da_row6_col0 {\n",
       "  background-color: #78c679;\n",
       "  color: #000000;\n",
       "}\n",
       "#T_072da_row7_col0 {\n",
       "  background-color: #ebf7e7;\n",
       "  color: #000000;\n",
       "}\n",
       "#T_072da_row8_col0 {\n",
       "  background-color: #75c477;\n",
       "  color: #000000;\n",
       "}\n",
       "#T_072da_row9_col0 {\n",
       "  background-color: #b7e2b1;\n",
       "  color: #000000;\n",
       "}\n",
       "#T_072da_row10_col0 {\n",
       "  background-color: #006428;\n",
       "  color: #f1f1f1;\n",
       "}\n",
       "#T_072da_row11_col0 {\n",
       "  background-color: #caeac3;\n",
       "  color: #000000;\n",
       "}\n",
       "#T_072da_row12_col0 {\n",
       "  background-color: #b5e1ae;\n",
       "  color: #000000;\n",
       "}\n",
       "#T_072da_row13_col0 {\n",
       "  background-color: #f7fcf5;\n",
       "  color: #000000;\n",
       "}\n",
       "#T_072da_row14_col0 {\n",
       "  background-color: #bce4b5;\n",
       "  color: #000000;\n",
       "}\n",
       "#T_072da_row15_col0 {\n",
       "  background-color: #8bcf89;\n",
       "  color: #000000;\n",
       "}\n",
       "#T_072da_row16_col0 {\n",
       "  background-color: #4db163;\n",
       "  color: #f1f1f1;\n",
       "}\n",
       "#T_072da_row17_col0 {\n",
       "  background-color: #94d390;\n",
       "  color: #000000;\n",
       "}\n",
       "#T_072da_row18_col0 {\n",
       "  background-color: #37a055;\n",
       "  color: #f1f1f1;\n",
       "}\n",
       "#T_072da_row19_col0 {\n",
       "  background-color: #99d595;\n",
       "  color: #000000;\n",
       "}\n",
       "#T_072da_row20_col0 {\n",
       "  background-color: #63bc6e;\n",
       "  color: #f1f1f1;\n",
       "}\n",
       "#T_072da_row21_col0 {\n",
       "  background-color: #dbf1d5;\n",
       "  color: #000000;\n",
       "}\n",
       "#T_072da_row22_col0 {\n",
       "  background-color: #359e53;\n",
       "  color: #f1f1f1;\n",
       "}\n",
       "#T_072da_row23_col0 {\n",
       "  background-color: #f6fcf4;\n",
       "  color: #000000;\n",
       "}\n",
       "</style>\n",
       "<table id=\"T_072da_\">\n",
       "  <thead>\n",
       "    <tr>\n",
       "      <th class=\"index_name level0\" >FrequentFlyer</th>\n",
       "      <th class=\"col_heading level0 col0\" >No</th>\n",
       "    </tr>\n",
       "    <tr>\n",
       "      <th class=\"index_name level0\" >AnnualIncome</th>\n",
       "      <th class=\"blank col0\" >&nbsp;</th>\n",
       "    </tr>\n",
       "  </thead>\n",
       "  <tbody>\n",
       "    <tr>\n",
       "      <th id=\"T_072da_level0_row0\" class=\"row_heading level0 row0\" >300000</th>\n",
       "      <td id=\"T_072da_row0_col0\" class=\"data row0 col0\" >88</td>\n",
       "    </tr>\n",
       "    <tr>\n",
       "      <th id=\"T_072da_level0_row1\" class=\"row_heading level0 row1\" >350000</th>\n",
       "      <td id=\"T_072da_row1_col0\" class=\"data row1 col0\" >55</td>\n",
       "    </tr>\n",
       "    <tr>\n",
       "      <th id=\"T_072da_level0_row2\" class=\"row_heading level0 row2\" >400000</th>\n",
       "      <td id=\"T_072da_row2_col0\" class=\"data row2 col0\" >65</td>\n",
       "    </tr>\n",
       "    <tr>\n",
       "      <th id=\"T_072da_level0_row3\" class=\"row_heading level0 row3\" >450000</th>\n",
       "      <td id=\"T_072da_row3_col0\" class=\"data row3 col0\" >15</td>\n",
       "    </tr>\n",
       "    <tr>\n",
       "      <th id=\"T_072da_level0_row4\" class=\"row_heading level0 row4\" >500000</th>\n",
       "      <td id=\"T_072da_row4_col0\" class=\"data row4 col0\" >142</td>\n",
       "    </tr>\n",
       "    <tr>\n",
       "      <th id=\"T_072da_level0_row5\" class=\"row_heading level0 row5\" >550000</th>\n",
       "      <td id=\"T_072da_row5_col0\" class=\"data row5 col0\" >67</td>\n",
       "    </tr>\n",
       "    <tr>\n",
       "      <th id=\"T_072da_level0_row6\" class=\"row_heading level0 row6\" >600000</th>\n",
       "      <td id=\"T_072da_row6_col0\" class=\"data row6 col0\" >76</td>\n",
       "    </tr>\n",
       "    <tr>\n",
       "      <th id=\"T_072da_level0_row7\" class=\"row_heading level0 row7\" >650000</th>\n",
       "      <td id=\"T_072da_row7_col0\" class=\"data row7 col0\" >24</td>\n",
       "    </tr>\n",
       "    <tr>\n",
       "      <th id=\"T_072da_level0_row8\" class=\"row_heading level0 row8\" >700000</th>\n",
       "      <td id=\"T_072da_row8_col0\" class=\"data row8 col0\" >77</td>\n",
       "    </tr>\n",
       "    <tr>\n",
       "      <th id=\"T_072da_level0_row9\" class=\"row_heading level0 row9\" >750000</th>\n",
       "      <td id=\"T_072da_row9_col0\" class=\"data row9 col0\" >52</td>\n",
       "    </tr>\n",
       "    <tr>\n",
       "      <th id=\"T_072da_level0_row10\" class=\"row_heading level0 row10\" >800000</th>\n",
       "      <td id=\"T_072da_row10_col0\" class=\"data row10 col0\" >129</td>\n",
       "    </tr>\n",
       "    <tr>\n",
       "      <th id=\"T_072da_level0_row11\" class=\"row_heading level0 row11\" >850000</th>\n",
       "      <td id=\"T_072da_row11_col0\" class=\"data row11 col0\" >44</td>\n",
       "    </tr>\n",
       "    <tr>\n",
       "      <th id=\"T_072da_level0_row12\" class=\"row_heading level0 row12\" >900000</th>\n",
       "      <td id=\"T_072da_row12_col0\" class=\"data row12 col0\" >53</td>\n",
       "    </tr>\n",
       "    <tr>\n",
       "      <th id=\"T_072da_level0_row13\" class=\"row_heading level0 row13\" >950000</th>\n",
       "      <td id=\"T_072da_row13_col0\" class=\"data row13 col0\" >13</td>\n",
       "    </tr>\n",
       "    <tr>\n",
       "      <th id=\"T_072da_level0_row14\" class=\"row_heading level0 row14\" >1000000</th>\n",
       "      <td id=\"T_072da_row14_col0\" class=\"data row14 col0\" >50</td>\n",
       "    </tr>\n",
       "    <tr>\n",
       "      <th id=\"T_072da_level0_row15\" class=\"row_heading level0 row15\" >1050000</th>\n",
       "      <td id=\"T_072da_row15_col0\" class=\"data row15 col0\" >69</td>\n",
       "    </tr>\n",
       "    <tr>\n",
       "      <th id=\"T_072da_level0_row16\" class=\"row_heading level0 row16\" >1100000</th>\n",
       "      <td id=\"T_072da_row16_col0\" class=\"data row16 col0\" >90</td>\n",
       "    </tr>\n",
       "    <tr>\n",
       "      <th id=\"T_072da_level0_row17\" class=\"row_heading level0 row17\" >1150000</th>\n",
       "      <td id=\"T_072da_row17_col0\" class=\"data row17 col0\" >66</td>\n",
       "    </tr>\n",
       "    <tr>\n",
       "      <th id=\"T_072da_level0_row18\" class=\"row_heading level0 row18\" >1200000</th>\n",
       "      <td id=\"T_072da_row18_col0\" class=\"data row18 col0\" >99</td>\n",
       "    </tr>\n",
       "    <tr>\n",
       "      <th id=\"T_072da_level0_row19\" class=\"row_heading level0 row19\" >1250000</th>\n",
       "      <td id=\"T_072da_row19_col0\" class=\"data row19 col0\" >64</td>\n",
       "    </tr>\n",
       "    <tr>\n",
       "      <th id=\"T_072da_level0_row20\" class=\"row_heading level0 row20\" >1300000</th>\n",
       "      <td id=\"T_072da_row20_col0\" class=\"data row20 col0\" >83</td>\n",
       "    </tr>\n",
       "    <tr>\n",
       "      <th id=\"T_072da_level0_row21\" class=\"row_heading level0 row21\" >1350000</th>\n",
       "      <td id=\"T_072da_row21_col0\" class=\"data row21 col0\" >35</td>\n",
       "    </tr>\n",
       "    <tr>\n",
       "      <th id=\"T_072da_level0_row22\" class=\"row_heading level0 row22\" >1400000</th>\n",
       "      <td id=\"T_072da_row22_col0\" class=\"data row22 col0\" >100</td>\n",
       "    </tr>\n",
       "    <tr>\n",
       "      <th id=\"T_072da_level0_row23\" class=\"row_heading level0 row23\" >1750000</th>\n",
       "      <td id=\"T_072da_row23_col0\" class=\"data row23 col0\" >14</td>\n",
       "    </tr>\n",
       "  </tbody>\n",
       "</table>\n"
      ],
      "text/plain": [
       "<pandas.io.formats.style.Styler at 0x2bd2a153e80>"
      ]
     },
     "execution_count": 193,
     "metadata": {},
     "output_type": "execute_result"
    }
   ],
   "source": [
    "df_1=nonFrequentFlyer.pivot_table(index='AnnualIncome', columns='FrequentFlyer', aggfunc='size')\n",
    "df_1.style.background_gradient('Greens')"
   ]
  },
  {
   "cell_type": "code",
   "execution_count": 199,
   "id": "f5bea316",
   "metadata": {},
   "outputs": [
    {
     "data": {
      "text/html": [
       "<style type=\"text/css\">\n",
       "#T_36074_row0_col0, #T_36074_row13_col0 {\n",
       "  background-color: #f2faf0;\n",
       "  color: #000000;\n",
       "}\n",
       "#T_36074_row1_col0, #T_36074_row28_col0, #T_36074_row29_col0 {\n",
       "  background-color: #f5fbf2;\n",
       "  color: #000000;\n",
       "}\n",
       "#T_36074_row2_col0 {\n",
       "  background-color: #edf8ea;\n",
       "  color: #000000;\n",
       "}\n",
       "#T_36074_row3_col0, #T_36074_row25_col0 {\n",
       "  background-color: #f4fbf1;\n",
       "  color: #000000;\n",
       "}\n",
       "#T_36074_row4_col0, #T_36074_row20_col0 {\n",
       "  background-color: #bde5b6;\n",
       "  color: #000000;\n",
       "}\n",
       "#T_36074_row5_col0 {\n",
       "  background-color: #d9f0d3;\n",
       "  color: #000000;\n",
       "}\n",
       "#T_36074_row6_col0, #T_36074_row14_col0 {\n",
       "  background-color: #e0f3db;\n",
       "  color: #000000;\n",
       "}\n",
       "#T_36074_row7_col0 {\n",
       "  background-color: #ecf8e8;\n",
       "  color: #000000;\n",
       "}\n",
       "#T_36074_row8_col0 {\n",
       "  background-color: #caeac3;\n",
       "  color: #000000;\n",
       "}\n",
       "#T_36074_row9_col0, #T_36074_row11_col0, #T_36074_row17_col0, #T_36074_row19_col0 {\n",
       "  background-color: #e9f7e5;\n",
       "  color: #000000;\n",
       "}\n",
       "#T_36074_row10_col0, #T_36074_row21_col0 {\n",
       "  background-color: #aedea7;\n",
       "  color: #000000;\n",
       "}\n",
       "#T_36074_row12_col0 {\n",
       "  background-color: #e6f5e1;\n",
       "  color: #000000;\n",
       "}\n",
       "#T_36074_row15_col0, #T_36074_row18_col0 {\n",
       "  background-color: #d2edcc;\n",
       "  color: #000000;\n",
       "}\n",
       "#T_36074_row16_col0 {\n",
       "  background-color: #ceecc8;\n",
       "  color: #000000;\n",
       "}\n",
       "#T_36074_row22_col0 {\n",
       "  background-color: #00441b;\n",
       "  color: #f1f1f1;\n",
       "}\n",
       "#T_36074_row23_col0 {\n",
       "  background-color: #c8e9c1;\n",
       "  color: #000000;\n",
       "}\n",
       "#T_36074_row24_col0 {\n",
       "  background-color: #39a257;\n",
       "  color: #f1f1f1;\n",
       "}\n",
       "#T_36074_row26_col0 {\n",
       "  background-color: #f7fcf5;\n",
       "  color: #000000;\n",
       "}\n",
       "#T_36074_row27_col0 {\n",
       "  background-color: #c3e7bc;\n",
       "  color: #000000;\n",
       "}\n",
       "</style>\n",
       "<table id=\"T_36074_\">\n",
       "  <thead>\n",
       "    <tr>\n",
       "      <th class=\"index_name level0\" >TravelInsurance</th>\n",
       "      <th class=\"col_heading level0 col0\" >1</th>\n",
       "    </tr>\n",
       "    <tr>\n",
       "      <th class=\"index_name level0\" >AnnualIncome</th>\n",
       "      <th class=\"blank col0\" >&nbsp;</th>\n",
       "    </tr>\n",
       "  </thead>\n",
       "  <tbody>\n",
       "    <tr>\n",
       "      <th id=\"T_36074_level0_row0\" class=\"row_heading level0 row0\" >300000</th>\n",
       "      <td id=\"T_36074_row0_col0\" class=\"data row0 col0\" >6</td>\n",
       "    </tr>\n",
       "    <tr>\n",
       "      <th id=\"T_36074_level0_row1\" class=\"row_heading level0 row1\" >350000</th>\n",
       "      <td id=\"T_36074_row1_col0\" class=\"data row1 col0\" >4</td>\n",
       "    </tr>\n",
       "    <tr>\n",
       "      <th id=\"T_36074_level0_row2\" class=\"row_heading level0 row2\" >400000</th>\n",
       "      <td id=\"T_36074_row2_col0\" class=\"data row2 col0\" >10</td>\n",
       "    </tr>\n",
       "    <tr>\n",
       "      <th id=\"T_36074_level0_row3\" class=\"row_heading level0 row3\" >450000</th>\n",
       "      <td id=\"T_36074_row3_col0\" class=\"data row3 col0\" >5</td>\n",
       "    </tr>\n",
       "    <tr>\n",
       "      <th id=\"T_36074_level0_row4\" class=\"row_heading level0 row4\" >500000</th>\n",
       "      <td id=\"T_36074_row4_col0\" class=\"data row4 col0\" >35</td>\n",
       "    </tr>\n",
       "    <tr>\n",
       "      <th id=\"T_36074_level0_row5\" class=\"row_heading level0 row5\" >550000</th>\n",
       "      <td id=\"T_36074_row5_col0\" class=\"data row5 col0\" >23</td>\n",
       "    </tr>\n",
       "    <tr>\n",
       "      <th id=\"T_36074_level0_row6\" class=\"row_heading level0 row6\" >600000</th>\n",
       "      <td id=\"T_36074_row6_col0\" class=\"data row6 col0\" >19</td>\n",
       "    </tr>\n",
       "    <tr>\n",
       "      <th id=\"T_36074_level0_row7\" class=\"row_heading level0 row7\" >650000</th>\n",
       "      <td id=\"T_36074_row7_col0\" class=\"data row7 col0\" >11</td>\n",
       "    </tr>\n",
       "    <tr>\n",
       "      <th id=\"T_36074_level0_row8\" class=\"row_heading level0 row8\" >700000</th>\n",
       "      <td id=\"T_36074_row8_col0\" class=\"data row8 col0\" >30</td>\n",
       "    </tr>\n",
       "    <tr>\n",
       "      <th id=\"T_36074_level0_row9\" class=\"row_heading level0 row9\" >750000</th>\n",
       "      <td id=\"T_36074_row9_col0\" class=\"data row9 col0\" >13</td>\n",
       "    </tr>\n",
       "    <tr>\n",
       "      <th id=\"T_36074_level0_row10\" class=\"row_heading level0 row10\" >800000</th>\n",
       "      <td id=\"T_36074_row10_col0\" class=\"data row10 col0\" >41</td>\n",
       "    </tr>\n",
       "    <tr>\n",
       "      <th id=\"T_36074_level0_row11\" class=\"row_heading level0 row11\" >850000</th>\n",
       "      <td id=\"T_36074_row11_col0\" class=\"data row11 col0\" >13</td>\n",
       "    </tr>\n",
       "    <tr>\n",
       "      <th id=\"T_36074_level0_row12\" class=\"row_heading level0 row12\" >900000</th>\n",
       "      <td id=\"T_36074_row12_col0\" class=\"data row12 col0\" >16</td>\n",
       "    </tr>\n",
       "    <tr>\n",
       "      <th id=\"T_36074_level0_row13\" class=\"row_heading level0 row13\" >950000</th>\n",
       "      <td id=\"T_36074_row13_col0\" class=\"data row13 col0\" >6</td>\n",
       "    </tr>\n",
       "    <tr>\n",
       "      <th id=\"T_36074_level0_row14\" class=\"row_heading level0 row14\" >1000000</th>\n",
       "      <td id=\"T_36074_row14_col0\" class=\"data row14 col0\" >19</td>\n",
       "    </tr>\n",
       "    <tr>\n",
       "      <th id=\"T_36074_level0_row15\" class=\"row_heading level0 row15\" >1050000</th>\n",
       "      <td id=\"T_36074_row15_col0\" class=\"data row15 col0\" >26</td>\n",
       "    </tr>\n",
       "    <tr>\n",
       "      <th id=\"T_36074_level0_row16\" class=\"row_heading level0 row16\" >1100000</th>\n",
       "      <td id=\"T_36074_row16_col0\" class=\"data row16 col0\" >28</td>\n",
       "    </tr>\n",
       "    <tr>\n",
       "      <th id=\"T_36074_level0_row17\" class=\"row_heading level0 row17\" >1150000</th>\n",
       "      <td id=\"T_36074_row17_col0\" class=\"data row17 col0\" >13</td>\n",
       "    </tr>\n",
       "    <tr>\n",
       "      <th id=\"T_36074_level0_row18\" class=\"row_heading level0 row18\" >1200000</th>\n",
       "      <td id=\"T_36074_row18_col0\" class=\"data row18 col0\" >26</td>\n",
       "    </tr>\n",
       "    <tr>\n",
       "      <th id=\"T_36074_level0_row19\" class=\"row_heading level0 row19\" >1250000</th>\n",
       "      <td id=\"T_36074_row19_col0\" class=\"data row19 col0\" >13</td>\n",
       "    </tr>\n",
       "    <tr>\n",
       "      <th id=\"T_36074_level0_row20\" class=\"row_heading level0 row20\" >1300000</th>\n",
       "      <td id=\"T_36074_row20_col0\" class=\"data row20 col0\" >35</td>\n",
       "    </tr>\n",
       "    <tr>\n",
       "      <th id=\"T_36074_level0_row21\" class=\"row_heading level0 row21\" >1350000</th>\n",
       "      <td id=\"T_36074_row21_col0\" class=\"data row21 col0\" >41</td>\n",
       "    </tr>\n",
       "    <tr>\n",
       "      <th id=\"T_36074_level0_row22\" class=\"row_heading level0 row22\" >1400000</th>\n",
       "      <td id=\"T_36074_row22_col0\" class=\"data row22 col0\" >119</td>\n",
       "    </tr>\n",
       "    <tr>\n",
       "      <th id=\"T_36074_level0_row23\" class=\"row_heading level0 row23\" >1450000</th>\n",
       "      <td id=\"T_36074_row23_col0\" class=\"data row23 col0\" >31</td>\n",
       "    </tr>\n",
       "    <tr>\n",
       "      <th id=\"T_36074_level0_row24\" class=\"row_heading level0 row24\" >1500000</th>\n",
       "      <td id=\"T_36074_row24_col0\" class=\"data row24 col0\" >79</td>\n",
       "    </tr>\n",
       "    <tr>\n",
       "      <th id=\"T_36074_level0_row25\" class=\"row_heading level0 row25\" >1550000</th>\n",
       "      <td id=\"T_36074_row25_col0\" class=\"data row25 col0\" >5</td>\n",
       "    </tr>\n",
       "    <tr>\n",
       "      <th id=\"T_36074_level0_row26\" class=\"row_heading level0 row26\" >1650000</th>\n",
       "      <td id=\"T_36074_row26_col0\" class=\"data row26 col0\" >2</td>\n",
       "    </tr>\n",
       "    <tr>\n",
       "      <th id=\"T_36074_level0_row27\" class=\"row_heading level0 row27\" >1700000</th>\n",
       "      <td id=\"T_36074_row27_col0\" class=\"data row27 col0\" >33</td>\n",
       "    </tr>\n",
       "    <tr>\n",
       "      <th id=\"T_36074_level0_row28\" class=\"row_heading level0 row28\" >1750000</th>\n",
       "      <td id=\"T_36074_row28_col0\" class=\"data row28 col0\" >4</td>\n",
       "    </tr>\n",
       "    <tr>\n",
       "      <th id=\"T_36074_level0_row29\" class=\"row_heading level0 row29\" >1800000</th>\n",
       "      <td id=\"T_36074_row29_col0\" class=\"data row29 col0\" >4</td>\n",
       "    </tr>\n",
       "  </tbody>\n",
       "</table>\n"
      ],
      "text/plain": [
       "<pandas.io.formats.style.Styler at 0x2bd2a11e490>"
      ]
     },
     "execution_count": 199,
     "metadata": {},
     "output_type": "execute_result"
    }
   ],
   "source": [
    "#for insurance holders\n",
    "df_5=insurance_holders.pivot_table(index='AnnualIncome', columns='TravelInsurance', aggfunc='size')\n",
    "df_5.style.background_gradient('Greens')"
   ]
  },
  {
   "cell_type": "code",
   "execution_count": 200,
   "id": "475e8717",
   "metadata": {},
   "outputs": [
    {
     "data": {
      "text/html": [
       "<style type=\"text/css\">\n",
       "#T_3e7bd_row0_col0 {\n",
       "  background-color: #289049;\n",
       "  color: #f1f1f1;\n",
       "}\n",
       "#T_3e7bd_row1_col0 {\n",
       "  background-color: #87cd86;\n",
       "  color: #000000;\n",
       "}\n",
       "#T_3e7bd_row2_col0 {\n",
       "  background-color: #7ac77b;\n",
       "  color: #000000;\n",
       "}\n",
       "#T_3e7bd_row3_col0 {\n",
       "  background-color: #edf8e9;\n",
       "  color: #000000;\n",
       "}\n",
       "#T_3e7bd_row4_col0 {\n",
       "  background-color: #005020;\n",
       "  color: #f1f1f1;\n",
       "}\n",
       "#T_3e7bd_row5_col0, #T_3e7bd_row19_col0 {\n",
       "  background-color: #70c274;\n",
       "  color: #000000;\n",
       "}\n",
       "#T_3e7bd_row6_col0, #T_3e7bd_row16_col0 {\n",
       "  background-color: #2f974e;\n",
       "  color: #f1f1f1;\n",
       "}\n",
       "#T_3e7bd_row7_col0 {\n",
       "  background-color: #def2d9;\n",
       "  color: #000000;\n",
       "}\n",
       "#T_3e7bd_row8_col0 {\n",
       "  background-color: #56b567;\n",
       "  color: #f1f1f1;\n",
       "}\n",
       "#T_3e7bd_row9_col0 {\n",
       "  background-color: #84cc83;\n",
       "  color: #000000;\n",
       "}\n",
       "#T_3e7bd_row10_col0 {\n",
       "  background-color: #00441b;\n",
       "  color: #f1f1f1;\n",
       "}\n",
       "#T_3e7bd_row11_col0 {\n",
       "  background-color: #a4da9e;\n",
       "  color: #000000;\n",
       "}\n",
       "#T_3e7bd_row12_col0, #T_3e7bd_row15_col0, #T_3e7bd_row20_col0 {\n",
       "  background-color: #78c679;\n",
       "  color: #000000;\n",
       "}\n",
       "#T_3e7bd_row13_col0 {\n",
       "  background-color: #e6f5e1;\n",
       "  color: #000000;\n",
       "}\n",
       "#T_3e7bd_row14_col0 {\n",
       "  background-color: #a8dca2;\n",
       "  color: #000000;\n",
       "}\n",
       "#T_3e7bd_row17_col0 {\n",
       "  background-color: #53b466;\n",
       "  color: #f1f1f1;\n",
       "}\n",
       "#T_3e7bd_row18_col0 {\n",
       "  background-color: #1f8742;\n",
       "  color: #f1f1f1;\n",
       "}\n",
       "#T_3e7bd_row21_col0 {\n",
       "  background-color: #f7fcf5;\n",
       "  color: #000000;\n",
       "}\n",
       "#T_3e7bd_row22_col0, #T_3e7bd_row25_col0 {\n",
       "  background-color: #ecf8e8;\n",
       "  color: #000000;\n",
       "}\n",
       "#T_3e7bd_row23_col0 {\n",
       "  background-color: #f6fcf4;\n",
       "  color: #000000;\n",
       "}\n",
       "#T_3e7bd_row24_col0 {\n",
       "  background-color: #f5fbf2;\n",
       "  color: #000000;\n",
       "}\n",
       "</style>\n",
       "<table id=\"T_3e7bd_\">\n",
       "  <thead>\n",
       "    <tr>\n",
       "      <th class=\"index_name level0\" >TravelInsurance</th>\n",
       "      <th class=\"col_heading level0 col0\" >0</th>\n",
       "    </tr>\n",
       "    <tr>\n",
       "      <th class=\"index_name level0\" >AnnualIncome</th>\n",
       "      <th class=\"blank col0\" >&nbsp;</th>\n",
       "    </tr>\n",
       "  </thead>\n",
       "  <tbody>\n",
       "    <tr>\n",
       "      <th id=\"T_3e7bd_level0_row0\" class=\"row_heading level0 row0\" >300000</th>\n",
       "      <td id=\"T_3e7bd_row0_col0\" class=\"data row0 col0\" >82</td>\n",
       "    </tr>\n",
       "    <tr>\n",
       "      <th id=\"T_3e7bd_level0_row1\" class=\"row_heading level0 row1\" >350000</th>\n",
       "      <td id=\"T_3e7bd_row1_col0\" class=\"data row1 col0\" >51</td>\n",
       "    </tr>\n",
       "    <tr>\n",
       "      <th id=\"T_3e7bd_level0_row2\" class=\"row_heading level0 row2\" >400000</th>\n",
       "      <td id=\"T_3e7bd_row2_col0\" class=\"data row2 col0\" >55</td>\n",
       "    </tr>\n",
       "    <tr>\n",
       "      <th id=\"T_3e7bd_level0_row3\" class=\"row_heading level0 row3\" >450000</th>\n",
       "      <td id=\"T_3e7bd_row3_col0\" class=\"data row3 col0\" >10</td>\n",
       "    </tr>\n",
       "    <tr>\n",
       "      <th id=\"T_3e7bd_level0_row4\" class=\"row_heading level0 row4\" >500000</th>\n",
       "      <td id=\"T_3e7bd_row4_col0\" class=\"data row4 col0\" >108</td>\n",
       "    </tr>\n",
       "    <tr>\n",
       "      <th id=\"T_3e7bd_level0_row5\" class=\"row_heading level0 row5\" >550000</th>\n",
       "      <td id=\"T_3e7bd_row5_col0\" class=\"data row5 col0\" >58</td>\n",
       "    </tr>\n",
       "    <tr>\n",
       "      <th id=\"T_3e7bd_level0_row6\" class=\"row_heading level0 row6\" >600000</th>\n",
       "      <td id=\"T_3e7bd_row6_col0\" class=\"data row6 col0\" >79</td>\n",
       "    </tr>\n",
       "    <tr>\n",
       "      <th id=\"T_3e7bd_level0_row7\" class=\"row_heading level0 row7\" >650000</th>\n",
       "      <td id=\"T_3e7bd_row7_col0\" class=\"data row7 col0\" >19</td>\n",
       "    </tr>\n",
       "    <tr>\n",
       "      <th id=\"T_3e7bd_level0_row8\" class=\"row_heading level0 row8\" >700000</th>\n",
       "      <td id=\"T_3e7bd_row8_col0\" class=\"data row8 col0\" >65</td>\n",
       "    </tr>\n",
       "    <tr>\n",
       "      <th id=\"T_3e7bd_level0_row9\" class=\"row_heading level0 row9\" >750000</th>\n",
       "      <td id=\"T_3e7bd_row9_col0\" class=\"data row9 col0\" >52</td>\n",
       "    </tr>\n",
       "    <tr>\n",
       "      <th id=\"T_3e7bd_level0_row10\" class=\"row_heading level0 row10\" >800000</th>\n",
       "      <td id=\"T_3e7bd_row10_col0\" class=\"data row10 col0\" >112</td>\n",
       "    </tr>\n",
       "    <tr>\n",
       "      <th id=\"T_3e7bd_level0_row11\" class=\"row_heading level0 row11\" >850000</th>\n",
       "      <td id=\"T_3e7bd_row11_col0\" class=\"data row11 col0\" >42</td>\n",
       "    </tr>\n",
       "    <tr>\n",
       "      <th id=\"T_3e7bd_level0_row12\" class=\"row_heading level0 row12\" >900000</th>\n",
       "      <td id=\"T_3e7bd_row12_col0\" class=\"data row12 col0\" >56</td>\n",
       "    </tr>\n",
       "    <tr>\n",
       "      <th id=\"T_3e7bd_level0_row13\" class=\"row_heading level0 row13\" >950000</th>\n",
       "      <td id=\"T_3e7bd_row13_col0\" class=\"data row13 col0\" >15</td>\n",
       "    </tr>\n",
       "    <tr>\n",
       "      <th id=\"T_3e7bd_level0_row14\" class=\"row_heading level0 row14\" >1000000</th>\n",
       "      <td id=\"T_3e7bd_row14_col0\" class=\"data row14 col0\" >41</td>\n",
       "    </tr>\n",
       "    <tr>\n",
       "      <th id=\"T_3e7bd_level0_row15\" class=\"row_heading level0 row15\" >1050000</th>\n",
       "      <td id=\"T_3e7bd_row15_col0\" class=\"data row15 col0\" >56</td>\n",
       "    </tr>\n",
       "    <tr>\n",
       "      <th id=\"T_3e7bd_level0_row16\" class=\"row_heading level0 row16\" >1100000</th>\n",
       "      <td id=\"T_3e7bd_row16_col0\" class=\"data row16 col0\" >79</td>\n",
       "    </tr>\n",
       "    <tr>\n",
       "      <th id=\"T_3e7bd_level0_row17\" class=\"row_heading level0 row17\" >1150000</th>\n",
       "      <td id=\"T_3e7bd_row17_col0\" class=\"data row17 col0\" >66</td>\n",
       "    </tr>\n",
       "    <tr>\n",
       "      <th id=\"T_3e7bd_level0_row18\" class=\"row_heading level0 row18\" >1200000</th>\n",
       "      <td id=\"T_3e7bd_row18_col0\" class=\"data row18 col0\" >86</td>\n",
       "    </tr>\n",
       "    <tr>\n",
       "      <th id=\"T_3e7bd_level0_row19\" class=\"row_heading level0 row19\" >1250000</th>\n",
       "      <td id=\"T_3e7bd_row19_col0\" class=\"data row19 col0\" >58</td>\n",
       "    </tr>\n",
       "    <tr>\n",
       "      <th id=\"T_3e7bd_level0_row20\" class=\"row_heading level0 row20\" >1300000</th>\n",
       "      <td id=\"T_3e7bd_row20_col0\" class=\"data row20 col0\" >56</td>\n",
       "    </tr>\n",
       "    <tr>\n",
       "      <th id=\"T_3e7bd_level0_row21\" class=\"row_heading level0 row21\" >1350000</th>\n",
       "      <td id=\"T_3e7bd_row21_col0\" class=\"data row21 col0\" >2</td>\n",
       "    </tr>\n",
       "    <tr>\n",
       "      <th id=\"T_3e7bd_level0_row22\" class=\"row_heading level0 row22\" >1400000</th>\n",
       "      <td id=\"T_3e7bd_row22_col0\" class=\"data row22 col0\" >11</td>\n",
       "    </tr>\n",
       "    <tr>\n",
       "      <th id=\"T_3e7bd_level0_row23\" class=\"row_heading level0 row23\" >1500000</th>\n",
       "      <td id=\"T_3e7bd_row23_col0\" class=\"data row23 col0\" >3</td>\n",
       "    </tr>\n",
       "    <tr>\n",
       "      <th id=\"T_3e7bd_level0_row24\" class=\"row_heading level0 row24\" >1700000</th>\n",
       "      <td id=\"T_3e7bd_row24_col0\" class=\"data row24 col0\" >4</td>\n",
       "    </tr>\n",
       "    <tr>\n",
       "      <th id=\"T_3e7bd_level0_row25\" class=\"row_heading level0 row25\" >1750000</th>\n",
       "      <td id=\"T_3e7bd_row25_col0\" class=\"data row25 col0\" >11</td>\n",
       "    </tr>\n",
       "  </tbody>\n",
       "</table>\n"
      ],
      "text/plain": [
       "<pandas.io.formats.style.Styler at 0x2bd2a0ecd00>"
      ]
     },
     "execution_count": 200,
     "metadata": {},
     "output_type": "execute_result"
    }
   ],
   "source": [
    "df_6=noninsurance_holders.pivot_table(index='AnnualIncome', columns='TravelInsurance', aggfunc='size')\n",
    "df_6.style.background_gradient('Greens')"
   ]
  },
  {
   "cell_type": "code",
   "execution_count": null,
   "id": "aeebe705",
   "metadata": {},
   "outputs": [],
   "source": []
  },
  {
   "cell_type": "code",
   "execution_count": 277,
   "id": "66cd79ba",
   "metadata": {},
   "outputs": [],
   "source": [
    "X = data[['Age','AnnualIncome']]"
   ]
  },
  {
   "cell_type": "code",
   "execution_count": 278,
   "id": "6834bd31",
   "metadata": {},
   "outputs": [],
   "source": [
    "y= data['Frequent_Flyer_binary'].values"
   ]
  },
  {
   "cell_type": "code",
   "execution_count": 279,
   "id": "353febcd",
   "metadata": {},
   "outputs": [
    {
     "data": {
      "text/html": [
       "<div>\n",
       "<style scoped>\n",
       "    .dataframe tbody tr th:only-of-type {\n",
       "        vertical-align: middle;\n",
       "    }\n",
       "\n",
       "    .dataframe tbody tr th {\n",
       "        vertical-align: top;\n",
       "    }\n",
       "\n",
       "    .dataframe thead th {\n",
       "        text-align: right;\n",
       "    }\n",
       "</style>\n",
       "<table border=\"1\" class=\"dataframe\">\n",
       "  <thead>\n",
       "    <tr style=\"text-align: right;\">\n",
       "      <th></th>\n",
       "      <th>Age</th>\n",
       "      <th>AnnualIncome</th>\n",
       "    </tr>\n",
       "  </thead>\n",
       "  <tbody>\n",
       "    <tr>\n",
       "      <th>0</th>\n",
       "      <td>31</td>\n",
       "      <td>400000</td>\n",
       "    </tr>\n",
       "    <tr>\n",
       "      <th>1</th>\n",
       "      <td>31</td>\n",
       "      <td>1250000</td>\n",
       "    </tr>\n",
       "    <tr>\n",
       "      <th>2</th>\n",
       "      <td>34</td>\n",
       "      <td>500000</td>\n",
       "    </tr>\n",
       "    <tr>\n",
       "      <th>3</th>\n",
       "      <td>28</td>\n",
       "      <td>700000</td>\n",
       "    </tr>\n",
       "    <tr>\n",
       "      <th>4</th>\n",
       "      <td>28</td>\n",
       "      <td>700000</td>\n",
       "    </tr>\n",
       "    <tr>\n",
       "      <th>...</th>\n",
       "      <td>...</td>\n",
       "      <td>...</td>\n",
       "    </tr>\n",
       "    <tr>\n",
       "      <th>1982</th>\n",
       "      <td>33</td>\n",
       "      <td>1500000</td>\n",
       "    </tr>\n",
       "    <tr>\n",
       "      <th>1983</th>\n",
       "      <td>28</td>\n",
       "      <td>1750000</td>\n",
       "    </tr>\n",
       "    <tr>\n",
       "      <th>1984</th>\n",
       "      <td>28</td>\n",
       "      <td>1150000</td>\n",
       "    </tr>\n",
       "    <tr>\n",
       "      <th>1985</th>\n",
       "      <td>34</td>\n",
       "      <td>1000000</td>\n",
       "    </tr>\n",
       "    <tr>\n",
       "      <th>1986</th>\n",
       "      <td>34</td>\n",
       "      <td>500000</td>\n",
       "    </tr>\n",
       "  </tbody>\n",
       "</table>\n",
       "<p>1987 rows × 2 columns</p>\n",
       "</div>"
      ],
      "text/plain": [
       "      Age  AnnualIncome\n",
       "0      31        400000\n",
       "1      31       1250000\n",
       "2      34        500000\n",
       "3      28        700000\n",
       "4      28        700000\n",
       "...   ...           ...\n",
       "1982   33       1500000\n",
       "1983   28       1750000\n",
       "1984   28       1150000\n",
       "1985   34       1000000\n",
       "1986   34        500000\n",
       "\n",
       "[1987 rows x 2 columns]"
      ]
     },
     "execution_count": 279,
     "metadata": {},
     "output_type": "execute_result"
    }
   ],
   "source": [
    "X"
   ]
  },
  {
   "cell_type": "code",
   "execution_count": 280,
   "id": "b03939e6",
   "metadata": {},
   "outputs": [
    {
     "data": {
      "text/plain": [
       "array([0, 0, 0, ..., 0, 1, 0], dtype=uint8)"
      ]
     },
     "execution_count": 280,
     "metadata": {},
     "output_type": "execute_result"
    }
   ],
   "source": [
    "y"
   ]
  },
  {
   "cell_type": "code",
   "execution_count": 281,
   "id": "3d5aa045",
   "metadata": {},
   "outputs": [],
   "source": [
    "from sklearn.model_selection import train_test_split"
   ]
  },
  {
   "cell_type": "code",
   "execution_count": 282,
   "id": "238cc6c9",
   "metadata": {},
   "outputs": [],
   "source": [
    "from sklearn.model_selection import train_test_split\n",
    "from sklearn.neighbors import KNeighborsClassifier\n",
    "import warnings\n",
    "warnings.filterwarnings('ignore')\n",
    "from sklearn import metrics \n",
    " "
   ]
  },
  {
   "cell_type": "code",
   "execution_count": 283,
   "id": "ce46dd55",
   "metadata": {},
   "outputs": [],
   "source": [
    "X_train, X_test, y_train, y_test =train_test_split(X, y,test_size=.3)"
   ]
  },
  {
   "cell_type": "code",
   "execution_count": 284,
   "id": "11cb1218",
   "metadata": {},
   "outputs": [
    {
     "data": {
      "text/plain": [
       "Text(0, 0.5, 'Accuracy')"
      ]
     },
     "execution_count": 284,
     "metadata": {},
     "output_type": "execute_result"
    },
    {
     "data": {
      "image/png": "[encoded data removed]",
      "text/plain": [
       "<Figure size 432x288 with 1 Axes>"
      ]
     },
     "metadata": {
      "needs_background": "light"
     },
     "output_type": "display_data"
    }
   ],
   "source": [
    "accuracy= []\n",
    "for i in range (1,11):\n",
    "    knn = KNeighborsClassifier(n_neighbors=i).fit(X_train, y_train)\n",
    "    y_pred = knn.predict(X_test)\n",
    "    accuracy.append(metrics.accuracy_score(y_test, y_pred))\n",
    "#plt.style.use('fivethirtyeight')\n",
    "plt.plot(range(1,11), accuracy, c ='r')\n",
    "plt.xlabel('K value')\n",
    "plt.ylabel('Accuracy')\n"
   ]
  },
  {
   "cell_type": "code",
   "execution_count": 285,
   "id": "00575ac2",
   "metadata": {},
   "outputs": [
    {
     "data": {
      "text/plain": [
       "0.8659966499162479"
      ]
     },
     "execution_count": 285,
     "metadata": {},
     "output_type": "execute_result"
    }
   ],
   "source": [
    "knn = KNeighborsClassifier(n_neighbors=6).fit(X_train, y_train)\n",
    "y_pred = knn.predict(X_test)\n",
    "metrics.accuracy_score(y_test, y_pred)"
   ]
  },
  {
   "cell_type": "code",
   "execution_count": 289,
   "id": "1cffff79",
   "metadata": {},
   "outputs": [],
   "source": [
    "from mlxtend.plotting import plot_decision_regions\n",
    "X = data[['Age','AnnualIncome']].to_numpy() \n",
    "y= data['Frequent_Flyer_binary'].to_numpy()"
   ]
  },
  {
   "cell_type": "code",
   "execution_count": 290,
   "id": "02a848f3",
   "metadata": {},
   "outputs": [
    {
     "data": {
      "image/png": "[encoded data removed]",
      "text/plain": [
       "<Figure size 864x432 with 1 Axes>"
      ]
     },
     "metadata": {
      "needs_background": "light"
     },
     "output_type": "display_data"
    }
   ],
   "source": [
    "#plt.style.use('bmh')\n",
    "plt.figure(figsize=(12,6))\n",
    "plot_decision_regions(X, y , clf =knn, legend=2)\n",
    "plt.show()"
   ]
  },
  {
   "cell_type": "code",
   "execution_count": null,
   "id": "67eb5f92",
   "metadata": {},
   "outputs": [],
   "source": []
  }
 ],
 "metadata": {
  "kernelspec": {
   "display_name": "Python 3 (ipykernel)",
   "language": "python",
   "name": "python3"
  },
  "language_info": {
   "codemirror_mode": {
    "name": "ipython",
    "version": 3
   },
   "file_extension": ".py",
   "mimetype": "text/x-python",
   "name": "python",
   "nbconvert_exporter": "python",
   "pygments_lexer": "ipython3",
   "version": "3.9.7"
  }
 },
 "nbformat": 4,
 "nbformat_minor": 5
}
