{
 "cells": [
  {
   "cell_type": "code",
   "execution_count": 157,
   "id": "487efa65",
   "metadata": {},
   "outputs": [],
   "source": [
    "import matplotlib.pyplot as plt\n",
    "import numpy as np\n",
    "import pandas as pd\n",
    "import seaborn as sns\n",
    "%matplotlib inline\n",
    "import warnings\n",
    "warnings.filterwarnings('ignore')\n",
    "from sklearn.model_selection import train_test_split\n",
    "from sklearn.linear_model import LinearRegression\n",
    "from sklearn import metrics"
   ]
  },
  {
   "cell_type": "code",
   "execution_count": 109,
   "id": "b59f6ac0",
   "metadata": {},
   "outputs": [],
   "source": [
    "df=pd.read_csv('Salary_Data.csv')"
   ]
  },
  {
   "cell_type": "code",
   "execution_count": 110,
   "id": "7bcd24ee",
   "metadata": {},
   "outputs": [
    {
     "data": {
      "text/html": [
       "<div>\n",
       "<style scoped>\n",
       "    .dataframe tbody tr th:only-of-type {\n",
       "        vertical-align: middle;\n",
       "    }\n",
       "\n",
       "    .dataframe tbody tr th {\n",
       "        vertical-align: top;\n",
       "    }\n",
       "\n",
       "    .dataframe thead th {\n",
       "        text-align: right;\n",
       "    }\n",
       "</style>\n",
       "<table border=\"1\" class=\"dataframe\">\n",
       "  <thead>\n",
       "    <tr style=\"text-align: right;\">\n",
       "      <th></th>\n",
       "      <th>YearsExperience</th>\n",
       "      <th>Salary</th>\n",
       "    </tr>\n",
       "  </thead>\n",
       "  <tbody>\n",
       "    <tr>\n",
       "      <th>0</th>\n",
       "      <td>1.1</td>\n",
       "      <td>39343</td>\n",
       "    </tr>\n",
       "    <tr>\n",
       "      <th>1</th>\n",
       "      <td>1.3</td>\n",
       "      <td>46205</td>\n",
       "    </tr>\n",
       "    <tr>\n",
       "      <th>2</th>\n",
       "      <td>1.5</td>\n",
       "      <td>37731</td>\n",
       "    </tr>\n",
       "    <tr>\n",
       "      <th>3</th>\n",
       "      <td>2.0</td>\n",
       "      <td>43525</td>\n",
       "    </tr>\n",
       "    <tr>\n",
       "      <th>4</th>\n",
       "      <td>2.2</td>\n",
       "      <td>39891</td>\n",
       "    </tr>\n",
       "  </tbody>\n",
       "</table>\n",
       "</div>"
      ],
      "text/plain": [
       "   YearsExperience  Salary\n",
       "0              1.1   39343\n",
       "1              1.3   46205\n",
       "2              1.5   37731\n",
       "3              2.0   43525\n",
       "4              2.2   39891"
      ]
     },
     "execution_count": 110,
     "metadata": {},
     "output_type": "execute_result"
    }
   ],
   "source": [
    "df.head()"
   ]
  },
  {
   "cell_type": "markdown",
   "id": "48f16872",
   "metadata": {},
   "source": [
    "# EDA "
   ]
  },
  {
   "cell_type": "code",
   "execution_count": 111,
   "id": "537a1bc2",
   "metadata": {},
   "outputs": [
    {
     "data": {
      "image/png": "[encoded data removed]",
      "text/plain": [
       "<Figure size 432x288 with 1 Axes>"
      ]
     },
     "metadata": {
      "needs_background": "light"
     },
     "output_type": "display_data"
    }
   ],
   "source": [
    "sns.histplot(df['YearsExperience'],kde=False)\n",
    "plt.show()"
   ]
  },
  {
   "cell_type": "markdown",
   "id": "a7dc2bb0",
   "metadata": {},
   "source": [
    "Years of Experience by count"
   ]
  },
  {
   "cell_type": "code",
   "execution_count": 112,
   "id": "ffbc0ba1",
   "metadata": {},
   "outputs": [
    {
     "data": {
      "image/png": "[encoded data removed]",
      "text/plain": [
       "<Figure size 864x432 with 1 Axes>"
      ]
     },
     "metadata": {
      "needs_background": "light"
     },
     "output_type": "display_data"
    }
   ],
   "source": [
    "plt.figure(figsize = (12,6))\n",
    "sns.countplot(y='YearsExperience', data=df)\n",
    "plt.show()"
   ]
  },
  {
   "cell_type": "markdown",
   "id": "c01e5952",
   "metadata": {},
   "source": [
    "Years of Exprience by salary "
   ]
  },
  {
   "cell_type": "code",
   "execution_count": 113,
   "id": "5179c822",
   "metadata": {},
   "outputs": [
    {
     "data": {
      "image/png": "[encoded data removed]",
      "text/plain": [
       "<Figure size 864x432 with 1 Axes>"
      ]
     },
     "metadata": {
      "needs_background": "light"
     },
     "output_type": "display_data"
    }
   ],
   "source": [
    "plt.figure(figsize = (12,6))\n",
    "sns.barplot( x='YearsExperience',y='Salary',data=df,ci=None)\n",
    "plt.show()"
   ]
  },
  {
   "cell_type": "code",
   "execution_count": 130,
   "id": "d8a9d64d",
   "metadata": {},
   "outputs": [],
   "source": [
    "x=df['YearsExperience']"
   ]
  },
  {
   "cell_type": "code",
   "execution_count": 131,
   "id": "631f9128",
   "metadata": {},
   "outputs": [],
   "source": [
    "y=df['Salary']"
   ]
  },
  {
   "cell_type": "code",
   "execution_count": 148,
   "id": "c6227ba2",
   "metadata": {},
   "outputs": [
    {
     "data": {
      "text/plain": [
       "<PandasArray>\n",
       "[\n",
       "[1.1],\n",
       "[1.3],\n",
       "[1.5],\n",
       "[2.0],\n",
       "[2.2],\n",
       "[2.9],\n",
       "[3.0],\n",
       "[3.2],\n",
       "[3.2],\n",
       "[3.7],\n",
       "[3.9],\n",
       "[4.0],\n",
       "[4.0],\n",
       "[4.1],\n",
       "[4.5],\n",
       "[4.9],\n",
       "[5.1],\n",
       "[5.3],\n",
       "[5.9],\n",
       "[6.0],\n",
       "[6.8],\n",
       "[7.1],\n",
       "[7.9],\n",
       "[8.2],\n",
       "[8.7],\n",
       "[9.0],\n",
       "[9.5],\n",
       "[9.6],\n",
       "[10.3],\n",
       "[10.5]\n",
       "]\n",
       "Shape: (30, 1), dtype: float64"
      ]
     },
     "execution_count": 148,
     "metadata": {},
     "output_type": "execute_result"
    }
   ],
   "source": [
    "x"
   ]
  },
  {
   "cell_type": "code",
   "execution_count": 133,
   "id": "e2e57531",
   "metadata": {},
   "outputs": [
    {
     "data": {
      "text/plain": [
       "0      39343\n",
       "1      46205\n",
       "2      37731\n",
       "3      43525\n",
       "4      39891\n",
       "5      56642\n",
       "6      60150\n",
       "7      54445\n",
       "8      64445\n",
       "9      57189\n",
       "10     63218\n",
       "11     55794\n",
       "12     56957\n",
       "13     57081\n",
       "14     61111\n",
       "15     67938\n",
       "16     66029\n",
       "17     83088\n",
       "18     81363\n",
       "19     93940\n",
       "20     91738\n",
       "21     98273\n",
       "22    101302\n",
       "23    113812\n",
       "24    109431\n",
       "25    105582\n",
       "26    116969\n",
       "27    112635\n",
       "28    122391\n",
       "29    121872\n",
       "Name: Salary, dtype: int64"
      ]
     },
     "execution_count": 133,
     "metadata": {},
     "output_type": "execute_result"
    }
   ],
   "source": [
    "y"
   ]
  },
  {
   "cell_type": "markdown",
   "id": "3fc5086c",
   "metadata": {},
   "source": [
    "Reshaping to an array"
   ]
  },
  {
   "cell_type": "code",
   "execution_count": 135,
   "id": "dc58b0aa",
   "metadata": {},
   "outputs": [],
   "source": [
    "x=x.array.reshape(-1,1)"
   ]
  },
  {
   "cell_type": "code",
   "execution_count": 136,
   "id": "ed2ba982",
   "metadata": {},
   "outputs": [
    {
     "data": {
      "text/plain": [
       "<PandasArray>\n",
       "[\n",
       "[1.1],\n",
       "[1.3],\n",
       "[1.5],\n",
       "[2.0],\n",
       "[2.2],\n",
       "[2.9],\n",
       "[3.0],\n",
       "[3.2],\n",
       "[3.2],\n",
       "[3.7],\n",
       "[3.9],\n",
       "[4.0],\n",
       "[4.0],\n",
       "[4.1],\n",
       "[4.5],\n",
       "[4.9],\n",
       "[5.1],\n",
       "[5.3],\n",
       "[5.9],\n",
       "[6.0],\n",
       "[6.8],\n",
       "[7.1],\n",
       "[7.9],\n",
       "[8.2],\n",
       "[8.7],\n",
       "[9.0],\n",
       "[9.5],\n",
       "[9.6],\n",
       "[10.3],\n",
       "[10.5]\n",
       "]\n",
       "Shape: (30, 1), dtype: float64"
      ]
     },
     "execution_count": 136,
     "metadata": {},
     "output_type": "execute_result"
    }
   ],
   "source": [
    "x"
   ]
  },
  {
   "cell_type": "code",
   "execution_count": 138,
   "id": "a6a429f3",
   "metadata": {},
   "outputs": [],
   "source": [
    "reg=LinearRegression().fit(x,y)"
   ]
  },
  {
   "cell_type": "code",
   "execution_count": 139,
   "id": "c72b03cf",
   "metadata": {},
   "outputs": [
    {
     "data": {
      "text/plain": [
       "LinearRegression()"
      ]
     },
     "execution_count": 139,
     "metadata": {},
     "output_type": "execute_result"
    }
   ],
   "source": [
    "reg"
   ]
  },
  {
   "cell_type": "markdown",
   "id": "9ac11620",
   "metadata": {},
   "source": [
    "Getting the attribute of the object"
   ]
  },
  {
   "cell_type": "code",
   "execution_count": 140,
   "id": "6255f93f",
   "metadata": {},
   "outputs": [
    {
     "data": {
      "text/plain": [
       "{'fit_intercept': True,\n",
       " 'normalize': 'deprecated',\n",
       " 'copy_X': True,\n",
       " 'n_jobs': None,\n",
       " 'positive': False,\n",
       " 'n_features_in_': 1,\n",
       " 'coef_': array([9449.96232146]),\n",
       " '_residues': 938128551.6684293,\n",
       " 'rank_': 1,\n",
       " 'singular_': array([15.28249543]),\n",
       " 'intercept_': 25792.20019866871}"
      ]
     },
     "execution_count": 140,
     "metadata": {},
     "output_type": "execute_result"
    }
   ],
   "source": [
    "reg.__dict__"
   ]
  },
  {
   "cell_type": "markdown",
   "id": "8b6b079b",
   "metadata": {},
   "source": [
    "$\n",
    "                                                                 Salary = 25792 + 25792   YearsExperience\n",
    "$"
   ]
  },
  {
   "cell_type": "code",
   "execution_count": 143,
   "id": "613f1b34",
   "metadata": {},
   "outputs": [
    {
     "data": {
      "text/plain": [
       "array([ 36187.15875227,  38077.15121656,  39967.14368085,  44692.12484158,\n",
       "        46582.11730587,  53197.09093089,  54142.08716303,  56032.07962732,\n",
       "        56032.07962732,  60757.06078805,  62647.05325234,  63592.04948449,\n",
       "        63592.04948449,  64537.04571663,  68317.03064522,  72097.0155738 ,\n",
       "        73987.00803809,  75877.00050238,  81546.97789525,  82491.9741274 ,\n",
       "        90051.94398456,  92886.932681  , 100446.90253816, 103281.8912346 ,\n",
       "       108006.87239533, 110841.86109176, 115566.84225249, 116511.83848464,\n",
       "       123126.81210966, 125016.80457395])"
      ]
     },
     "execution_count": 143,
     "metadata": {},
     "output_type": "execute_result"
    }
   ],
   "source": [
    "reg.predict(x)"
   ]
  },
  {
   "cell_type": "markdown",
   "id": "6e1f60b3",
   "metadata": {},
   "source": [
    "Create a column for the prediction"
   ]
  },
  {
   "cell_type": "code",
   "execution_count": 144,
   "id": "78e8ea3c",
   "metadata": {},
   "outputs": [],
   "source": [
    "df['pred'] = reg.predict(x)"
   ]
  },
  {
   "cell_type": "code",
   "execution_count": 146,
   "id": "39b94d53",
   "metadata": {},
   "outputs": [
    {
     "data": {
      "text/html": [
       "<div>\n",
       "<style scoped>\n",
       "    .dataframe tbody tr th:only-of-type {\n",
       "        vertical-align: middle;\n",
       "    }\n",
       "\n",
       "    .dataframe tbody tr th {\n",
       "        vertical-align: top;\n",
       "    }\n",
       "\n",
       "    .dataframe thead th {\n",
       "        text-align: right;\n",
       "    }\n",
       "</style>\n",
       "<table border=\"1\" class=\"dataframe\">\n",
       "  <thead>\n",
       "    <tr style=\"text-align: right;\">\n",
       "      <th></th>\n",
       "      <th>YearsExperience</th>\n",
       "      <th>Salary</th>\n",
       "      <th>pred</th>\n",
       "    </tr>\n",
       "  </thead>\n",
       "  <tbody>\n",
       "    <tr>\n",
       "      <th>0</th>\n",
       "      <td>1.1</td>\n",
       "      <td>39343</td>\n",
       "      <td>36187.158752</td>\n",
       "    </tr>\n",
       "    <tr>\n",
       "      <th>1</th>\n",
       "      <td>1.3</td>\n",
       "      <td>46205</td>\n",
       "      <td>38077.151217</td>\n",
       "    </tr>\n",
       "    <tr>\n",
       "      <th>2</th>\n",
       "      <td>1.5</td>\n",
       "      <td>37731</td>\n",
       "      <td>39967.143681</td>\n",
       "    </tr>\n",
       "    <tr>\n",
       "      <th>3</th>\n",
       "      <td>2.0</td>\n",
       "      <td>43525</td>\n",
       "      <td>44692.124842</td>\n",
       "    </tr>\n",
       "    <tr>\n",
       "      <th>4</th>\n",
       "      <td>2.2</td>\n",
       "      <td>39891</td>\n",
       "      <td>46582.117306</td>\n",
       "    </tr>\n",
       "  </tbody>\n",
       "</table>\n",
       "</div>"
      ],
      "text/plain": [
       "   YearsExperience  Salary          pred\n",
       "0              1.1   39343  36187.158752\n",
       "1              1.3   46205  38077.151217\n",
       "2              1.5   37731  39967.143681\n",
       "3              2.0   43525  44692.124842\n",
       "4              2.2   39891  46582.117306"
      ]
     },
     "execution_count": 146,
     "metadata": {},
     "output_type": "execute_result"
    }
   ],
   "source": [
    "df.head()"
   ]
  },
  {
   "cell_type": "markdown",
   "id": "d5ae88c5",
   "metadata": {},
   "source": [
    "Make predictions"
   ]
  },
  {
   "cell_type": "code",
   "execution_count": 174,
   "id": "8d8f3a4b",
   "metadata": {},
   "outputs": [
    {
     "data": {
      "image/png": "[encoded data removed]",
      "text/plain": [
       "<Figure size 432x288 with 1 Axes>"
      ]
     },
     "metadata": {
      "needs_background": "light"
     },
     "output_type": "display_data"
    }
   ],
   "source": [
    "sns.scatterplot(x='YearsExperience', y='Salary', data=df)\n",
    "#sns.scatterplot(x='YearsExperience', y='pred', data=df)\n",
    "sns.lineplot(x='YearsExperience', y='pred', data=df, color ='green')\n",
    "\n",
    "\n",
    "plt.show()"
   ]
  },
  {
   "cell_type": "markdown",
   "id": "8c99e864",
   "metadata": {},
   "source": [
    "Calculating the Residuals"
   ]
  },
  {
   "cell_type": "code",
   "execution_count": 163,
   "id": "7154df90",
   "metadata": {},
   "outputs": [],
   "source": [
    "df['error']= df.YearsExperience - df.pred"
   ]
  },
  {
   "cell_type": "code",
   "execution_count": 164,
   "id": "6cf64180",
   "metadata": {},
   "outputs": [
    {
     "data": {
      "text/html": [
       "<div>\n",
       "<style scoped>\n",
       "    .dataframe tbody tr th:only-of-type {\n",
       "        vertical-align: middle;\n",
       "    }\n",
       "\n",
       "    .dataframe tbody tr th {\n",
       "        vertical-align: top;\n",
       "    }\n",
       "\n",
       "    .dataframe thead th {\n",
       "        text-align: right;\n",
       "    }\n",
       "</style>\n",
       "<table border=\"1\" class=\"dataframe\">\n",
       "  <thead>\n",
       "    <tr style=\"text-align: right;\">\n",
       "      <th></th>\n",
       "      <th>YearsExperience</th>\n",
       "      <th>Salary</th>\n",
       "      <th>pred</th>\n",
       "      <th>error</th>\n",
       "    </tr>\n",
       "  </thead>\n",
       "  <tbody>\n",
       "    <tr>\n",
       "      <th>0</th>\n",
       "      <td>1.1</td>\n",
       "      <td>39343</td>\n",
       "      <td>36187.158752</td>\n",
       "      <td>-36186.058752</td>\n",
       "    </tr>\n",
       "    <tr>\n",
       "      <th>1</th>\n",
       "      <td>1.3</td>\n",
       "      <td>46205</td>\n",
       "      <td>38077.151217</td>\n",
       "      <td>-38075.851217</td>\n",
       "    </tr>\n",
       "    <tr>\n",
       "      <th>2</th>\n",
       "      <td>1.5</td>\n",
       "      <td>37731</td>\n",
       "      <td>39967.143681</td>\n",
       "      <td>-39965.643681</td>\n",
       "    </tr>\n",
       "    <tr>\n",
       "      <th>3</th>\n",
       "      <td>2.0</td>\n",
       "      <td>43525</td>\n",
       "      <td>44692.124842</td>\n",
       "      <td>-44690.124842</td>\n",
       "    </tr>\n",
       "    <tr>\n",
       "      <th>4</th>\n",
       "      <td>2.2</td>\n",
       "      <td>39891</td>\n",
       "      <td>46582.117306</td>\n",
       "      <td>-46579.917306</td>\n",
       "    </tr>\n",
       "    <tr>\n",
       "      <th>5</th>\n",
       "      <td>2.9</td>\n",
       "      <td>56642</td>\n",
       "      <td>53197.090931</td>\n",
       "      <td>-53194.190931</td>\n",
       "    </tr>\n",
       "    <tr>\n",
       "      <th>6</th>\n",
       "      <td>3.0</td>\n",
       "      <td>60150</td>\n",
       "      <td>54142.087163</td>\n",
       "      <td>-54139.087163</td>\n",
       "    </tr>\n",
       "    <tr>\n",
       "      <th>7</th>\n",
       "      <td>3.2</td>\n",
       "      <td>54445</td>\n",
       "      <td>56032.079627</td>\n",
       "      <td>-56028.879627</td>\n",
       "    </tr>\n",
       "    <tr>\n",
       "      <th>8</th>\n",
       "      <td>3.2</td>\n",
       "      <td>64445</td>\n",
       "      <td>56032.079627</td>\n",
       "      <td>-56028.879627</td>\n",
       "    </tr>\n",
       "    <tr>\n",
       "      <th>9</th>\n",
       "      <td>3.7</td>\n",
       "      <td>57189</td>\n",
       "      <td>60757.060788</td>\n",
       "      <td>-60753.360788</td>\n",
       "    </tr>\n",
       "    <tr>\n",
       "      <th>10</th>\n",
       "      <td>3.9</td>\n",
       "      <td>63218</td>\n",
       "      <td>62647.053252</td>\n",
       "      <td>-62643.153252</td>\n",
       "    </tr>\n",
       "    <tr>\n",
       "      <th>11</th>\n",
       "      <td>4.0</td>\n",
       "      <td>55794</td>\n",
       "      <td>63592.049484</td>\n",
       "      <td>-63588.049484</td>\n",
       "    </tr>\n",
       "    <tr>\n",
       "      <th>12</th>\n",
       "      <td>4.0</td>\n",
       "      <td>56957</td>\n",
       "      <td>63592.049484</td>\n",
       "      <td>-63588.049484</td>\n",
       "    </tr>\n",
       "    <tr>\n",
       "      <th>13</th>\n",
       "      <td>4.1</td>\n",
       "      <td>57081</td>\n",
       "      <td>64537.045717</td>\n",
       "      <td>-64532.945717</td>\n",
       "    </tr>\n",
       "    <tr>\n",
       "      <th>14</th>\n",
       "      <td>4.5</td>\n",
       "      <td>61111</td>\n",
       "      <td>68317.030645</td>\n",
       "      <td>-68312.530645</td>\n",
       "    </tr>\n",
       "    <tr>\n",
       "      <th>15</th>\n",
       "      <td>4.9</td>\n",
       "      <td>67938</td>\n",
       "      <td>72097.015574</td>\n",
       "      <td>-72092.115574</td>\n",
       "    </tr>\n",
       "    <tr>\n",
       "      <th>16</th>\n",
       "      <td>5.1</td>\n",
       "      <td>66029</td>\n",
       "      <td>73987.008038</td>\n",
       "      <td>-73981.908038</td>\n",
       "    </tr>\n",
       "    <tr>\n",
       "      <th>17</th>\n",
       "      <td>5.3</td>\n",
       "      <td>83088</td>\n",
       "      <td>75877.000502</td>\n",
       "      <td>-75871.700502</td>\n",
       "    </tr>\n",
       "    <tr>\n",
       "      <th>18</th>\n",
       "      <td>5.9</td>\n",
       "      <td>81363</td>\n",
       "      <td>81546.977895</td>\n",
       "      <td>-81541.077895</td>\n",
       "    </tr>\n",
       "    <tr>\n",
       "      <th>19</th>\n",
       "      <td>6.0</td>\n",
       "      <td>93940</td>\n",
       "      <td>82491.974127</td>\n",
       "      <td>-82485.974127</td>\n",
       "    </tr>\n",
       "    <tr>\n",
       "      <th>20</th>\n",
       "      <td>6.8</td>\n",
       "      <td>91738</td>\n",
       "      <td>90051.943985</td>\n",
       "      <td>-90045.143985</td>\n",
       "    </tr>\n",
       "    <tr>\n",
       "      <th>21</th>\n",
       "      <td>7.1</td>\n",
       "      <td>98273</td>\n",
       "      <td>92886.932681</td>\n",
       "      <td>-92879.832681</td>\n",
       "    </tr>\n",
       "    <tr>\n",
       "      <th>22</th>\n",
       "      <td>7.9</td>\n",
       "      <td>101302</td>\n",
       "      <td>100446.902538</td>\n",
       "      <td>-100439.002538</td>\n",
       "    </tr>\n",
       "    <tr>\n",
       "      <th>23</th>\n",
       "      <td>8.2</td>\n",
       "      <td>113812</td>\n",
       "      <td>103281.891235</td>\n",
       "      <td>-103273.691235</td>\n",
       "    </tr>\n",
       "    <tr>\n",
       "      <th>24</th>\n",
       "      <td>8.7</td>\n",
       "      <td>109431</td>\n",
       "      <td>108006.872395</td>\n",
       "      <td>-107998.172395</td>\n",
       "    </tr>\n",
       "    <tr>\n",
       "      <th>25</th>\n",
       "      <td>9.0</td>\n",
       "      <td>105582</td>\n",
       "      <td>110841.861092</td>\n",
       "      <td>-110832.861092</td>\n",
       "    </tr>\n",
       "    <tr>\n",
       "      <th>26</th>\n",
       "      <td>9.5</td>\n",
       "      <td>116969</td>\n",
       "      <td>115566.842252</td>\n",
       "      <td>-115557.342252</td>\n",
       "    </tr>\n",
       "    <tr>\n",
       "      <th>27</th>\n",
       "      <td>9.6</td>\n",
       "      <td>112635</td>\n",
       "      <td>116511.838485</td>\n",
       "      <td>-116502.238485</td>\n",
       "    </tr>\n",
       "    <tr>\n",
       "      <th>28</th>\n",
       "      <td>10.3</td>\n",
       "      <td>122391</td>\n",
       "      <td>123126.812110</td>\n",
       "      <td>-123116.512110</td>\n",
       "    </tr>\n",
       "    <tr>\n",
       "      <th>29</th>\n",
       "      <td>10.5</td>\n",
       "      <td>121872</td>\n",
       "      <td>125016.804574</td>\n",
       "      <td>-125006.304574</td>\n",
       "    </tr>\n",
       "  </tbody>\n",
       "</table>\n",
       "</div>"
      ],
      "text/plain": [
       "    YearsExperience  Salary           pred          error\n",
       "0               1.1   39343   36187.158752  -36186.058752\n",
       "1               1.3   46205   38077.151217  -38075.851217\n",
       "2               1.5   37731   39967.143681  -39965.643681\n",
       "3               2.0   43525   44692.124842  -44690.124842\n",
       "4               2.2   39891   46582.117306  -46579.917306\n",
       "5               2.9   56642   53197.090931  -53194.190931\n",
       "6               3.0   60150   54142.087163  -54139.087163\n",
       "7               3.2   54445   56032.079627  -56028.879627\n",
       "8               3.2   64445   56032.079627  -56028.879627\n",
       "9               3.7   57189   60757.060788  -60753.360788\n",
       "10              3.9   63218   62647.053252  -62643.153252\n",
       "11              4.0   55794   63592.049484  -63588.049484\n",
       "12              4.0   56957   63592.049484  -63588.049484\n",
       "13              4.1   57081   64537.045717  -64532.945717\n",
       "14              4.5   61111   68317.030645  -68312.530645\n",
       "15              4.9   67938   72097.015574  -72092.115574\n",
       "16              5.1   66029   73987.008038  -73981.908038\n",
       "17              5.3   83088   75877.000502  -75871.700502\n",
       "18              5.9   81363   81546.977895  -81541.077895\n",
       "19              6.0   93940   82491.974127  -82485.974127\n",
       "20              6.8   91738   90051.943985  -90045.143985\n",
       "21              7.1   98273   92886.932681  -92879.832681\n",
       "22              7.9  101302  100446.902538 -100439.002538\n",
       "23              8.2  113812  103281.891235 -103273.691235\n",
       "24              8.7  109431  108006.872395 -107998.172395\n",
       "25              9.0  105582  110841.861092 -110832.861092\n",
       "26              9.5  116969  115566.842252 -115557.342252\n",
       "27              9.6  112635  116511.838485 -116502.238485\n",
       "28             10.3  122391  123126.812110 -123116.512110\n",
       "29             10.5  121872  125016.804574 -125006.304574"
      ]
     },
     "execution_count": 164,
     "metadata": {},
     "output_type": "execute_result"
    }
   ],
   "source": [
    "df"
   ]
  },
  {
   "cell_type": "code",
   "execution_count": 166,
   "id": "40837a86",
   "metadata": {},
   "outputs": [
    {
     "data": {
      "text/plain": [
       "-2279930.6"
      ]
     },
     "execution_count": 166,
     "metadata": {},
     "output_type": "execute_result"
    }
   ],
   "source": [
    "df.error.sum()"
   ]
  },
  {
   "cell_type": "code",
   "execution_count": 168,
   "id": "e1e9a2cd",
   "metadata": {},
   "outputs": [],
   "source": [
    "df['error2']=df.error**2"
   ]
  },
  {
   "cell_type": "code",
   "execution_count": 169,
   "id": "c129b6d0",
   "metadata": {},
   "outputs": [
    {
     "data": {
      "text/html": [
       "<div>\n",
       "<style scoped>\n",
       "    .dataframe tbody tr th:only-of-type {\n",
       "        vertical-align: middle;\n",
       "    }\n",
       "\n",
       "    .dataframe tbody tr th {\n",
       "        vertical-align: top;\n",
       "    }\n",
       "\n",
       "    .dataframe thead th {\n",
       "        text-align: right;\n",
       "    }\n",
       "</style>\n",
       "<table border=\"1\" class=\"dataframe\">\n",
       "  <thead>\n",
       "    <tr style=\"text-align: right;\">\n",
       "      <th></th>\n",
       "      <th>YearsExperience</th>\n",
       "      <th>Salary</th>\n",
       "      <th>pred</th>\n",
       "      <th>error</th>\n",
       "      <th>error2</th>\n",
       "    </tr>\n",
       "  </thead>\n",
       "  <tbody>\n",
       "    <tr>\n",
       "      <th>0</th>\n",
       "      <td>1.1</td>\n",
       "      <td>39343</td>\n",
       "      <td>36187.158752</td>\n",
       "      <td>-36186.058752</td>\n",
       "      <td>1.309431e+09</td>\n",
       "    </tr>\n",
       "    <tr>\n",
       "      <th>1</th>\n",
       "      <td>1.3</td>\n",
       "      <td>46205</td>\n",
       "      <td>38077.151217</td>\n",
       "      <td>-38075.851217</td>\n",
       "      <td>1.449770e+09</td>\n",
       "    </tr>\n",
       "    <tr>\n",
       "      <th>2</th>\n",
       "      <td>1.5</td>\n",
       "      <td>37731</td>\n",
       "      <td>39967.143681</td>\n",
       "      <td>-39965.643681</td>\n",
       "      <td>1.597253e+09</td>\n",
       "    </tr>\n",
       "    <tr>\n",
       "      <th>3</th>\n",
       "      <td>2.0</td>\n",
       "      <td>43525</td>\n",
       "      <td>44692.124842</td>\n",
       "      <td>-44690.124842</td>\n",
       "      <td>1.997207e+09</td>\n",
       "    </tr>\n",
       "    <tr>\n",
       "      <th>4</th>\n",
       "      <td>2.2</td>\n",
       "      <td>39891</td>\n",
       "      <td>46582.117306</td>\n",
       "      <td>-46579.917306</td>\n",
       "      <td>2.169689e+09</td>\n",
       "    </tr>\n",
       "    <tr>\n",
       "      <th>5</th>\n",
       "      <td>2.9</td>\n",
       "      <td>56642</td>\n",
       "      <td>53197.090931</td>\n",
       "      <td>-53194.190931</td>\n",
       "      <td>2.829622e+09</td>\n",
       "    </tr>\n",
       "    <tr>\n",
       "      <th>6</th>\n",
       "      <td>3.0</td>\n",
       "      <td>60150</td>\n",
       "      <td>54142.087163</td>\n",
       "      <td>-54139.087163</td>\n",
       "      <td>2.931041e+09</td>\n",
       "    </tr>\n",
       "    <tr>\n",
       "      <th>7</th>\n",
       "      <td>3.2</td>\n",
       "      <td>54445</td>\n",
       "      <td>56032.079627</td>\n",
       "      <td>-56028.879627</td>\n",
       "      <td>3.139235e+09</td>\n",
       "    </tr>\n",
       "    <tr>\n",
       "      <th>8</th>\n",
       "      <td>3.2</td>\n",
       "      <td>64445</td>\n",
       "      <td>56032.079627</td>\n",
       "      <td>-56028.879627</td>\n",
       "      <td>3.139235e+09</td>\n",
       "    </tr>\n",
       "    <tr>\n",
       "      <th>9</th>\n",
       "      <td>3.7</td>\n",
       "      <td>57189</td>\n",
       "      <td>60757.060788</td>\n",
       "      <td>-60753.360788</td>\n",
       "      <td>3.690971e+09</td>\n",
       "    </tr>\n",
       "    <tr>\n",
       "      <th>10</th>\n",
       "      <td>3.9</td>\n",
       "      <td>63218</td>\n",
       "      <td>62647.053252</td>\n",
       "      <td>-62643.153252</td>\n",
       "      <td>3.924165e+09</td>\n",
       "    </tr>\n",
       "    <tr>\n",
       "      <th>11</th>\n",
       "      <td>4.0</td>\n",
       "      <td>55794</td>\n",
       "      <td>63592.049484</td>\n",
       "      <td>-63588.049484</td>\n",
       "      <td>4.043440e+09</td>\n",
       "    </tr>\n",
       "    <tr>\n",
       "      <th>12</th>\n",
       "      <td>4.0</td>\n",
       "      <td>56957</td>\n",
       "      <td>63592.049484</td>\n",
       "      <td>-63588.049484</td>\n",
       "      <td>4.043440e+09</td>\n",
       "    </tr>\n",
       "    <tr>\n",
       "      <th>13</th>\n",
       "      <td>4.1</td>\n",
       "      <td>57081</td>\n",
       "      <td>64537.045717</td>\n",
       "      <td>-64532.945717</td>\n",
       "      <td>4.164501e+09</td>\n",
       "    </tr>\n",
       "    <tr>\n",
       "      <th>14</th>\n",
       "      <td>4.5</td>\n",
       "      <td>61111</td>\n",
       "      <td>68317.030645</td>\n",
       "      <td>-68312.530645</td>\n",
       "      <td>4.666602e+09</td>\n",
       "    </tr>\n",
       "    <tr>\n",
       "      <th>15</th>\n",
       "      <td>4.9</td>\n",
       "      <td>67938</td>\n",
       "      <td>72097.015574</td>\n",
       "      <td>-72092.115574</td>\n",
       "      <td>5.197273e+09</td>\n",
       "    </tr>\n",
       "    <tr>\n",
       "      <th>16</th>\n",
       "      <td>5.1</td>\n",
       "      <td>66029</td>\n",
       "      <td>73987.008038</td>\n",
       "      <td>-73981.908038</td>\n",
       "      <td>5.473323e+09</td>\n",
       "    </tr>\n",
       "    <tr>\n",
       "      <th>17</th>\n",
       "      <td>5.3</td>\n",
       "      <td>83088</td>\n",
       "      <td>75877.000502</td>\n",
       "      <td>-75871.700502</td>\n",
       "      <td>5.756515e+09</td>\n",
       "    </tr>\n",
       "    <tr>\n",
       "      <th>18</th>\n",
       "      <td>5.9</td>\n",
       "      <td>81363</td>\n",
       "      <td>81546.977895</td>\n",
       "      <td>-81541.077895</td>\n",
       "      <td>6.648947e+09</td>\n",
       "    </tr>\n",
       "    <tr>\n",
       "      <th>19</th>\n",
       "      <td>6.0</td>\n",
       "      <td>93940</td>\n",
       "      <td>82491.974127</td>\n",
       "      <td>-82485.974127</td>\n",
       "      <td>6.803936e+09</td>\n",
       "    </tr>\n",
       "    <tr>\n",
       "      <th>20</th>\n",
       "      <td>6.8</td>\n",
       "      <td>91738</td>\n",
       "      <td>90051.943985</td>\n",
       "      <td>-90045.143985</td>\n",
       "      <td>8.108128e+09</td>\n",
       "    </tr>\n",
       "    <tr>\n",
       "      <th>21</th>\n",
       "      <td>7.1</td>\n",
       "      <td>98273</td>\n",
       "      <td>92886.932681</td>\n",
       "      <td>-92879.832681</td>\n",
       "      <td>8.626663e+09</td>\n",
       "    </tr>\n",
       "    <tr>\n",
       "      <th>22</th>\n",
       "      <td>7.9</td>\n",
       "      <td>101302</td>\n",
       "      <td>100446.902538</td>\n",
       "      <td>-100439.002538</td>\n",
       "      <td>1.008799e+10</td>\n",
       "    </tr>\n",
       "    <tr>\n",
       "      <th>23</th>\n",
       "      <td>8.2</td>\n",
       "      <td>113812</td>\n",
       "      <td>103281.891235</td>\n",
       "      <td>-103273.691235</td>\n",
       "      <td>1.066546e+10</td>\n",
       "    </tr>\n",
       "    <tr>\n",
       "      <th>24</th>\n",
       "      <td>8.7</td>\n",
       "      <td>109431</td>\n",
       "      <td>108006.872395</td>\n",
       "      <td>-107998.172395</td>\n",
       "      <td>1.166361e+10</td>\n",
       "    </tr>\n",
       "    <tr>\n",
       "      <th>25</th>\n",
       "      <td>9.0</td>\n",
       "      <td>105582</td>\n",
       "      <td>110841.861092</td>\n",
       "      <td>-110832.861092</td>\n",
       "      <td>1.228392e+10</td>\n",
       "    </tr>\n",
       "    <tr>\n",
       "      <th>26</th>\n",
       "      <td>9.5</td>\n",
       "      <td>116969</td>\n",
       "      <td>115566.842252</td>\n",
       "      <td>-115557.342252</td>\n",
       "      <td>1.335350e+10</td>\n",
       "    </tr>\n",
       "    <tr>\n",
       "      <th>27</th>\n",
       "      <td>9.6</td>\n",
       "      <td>112635</td>\n",
       "      <td>116511.838485</td>\n",
       "      <td>-116502.238485</td>\n",
       "      <td>1.357277e+10</td>\n",
       "    </tr>\n",
       "    <tr>\n",
       "      <th>28</th>\n",
       "      <td>10.3</td>\n",
       "      <td>122391</td>\n",
       "      <td>123126.812110</td>\n",
       "      <td>-123116.512110</td>\n",
       "      <td>1.515768e+10</td>\n",
       "    </tr>\n",
       "    <tr>\n",
       "      <th>29</th>\n",
       "      <td>10.5</td>\n",
       "      <td>121872</td>\n",
       "      <td>125016.804574</td>\n",
       "      <td>-125006.304574</td>\n",
       "      <td>1.562658e+10</td>\n",
       "    </tr>\n",
       "  </tbody>\n",
       "</table>\n",
       "</div>"
      ],
      "text/plain": [
       "    YearsExperience  Salary           pred          error        error2\n",
       "0               1.1   39343   36187.158752  -36186.058752  1.309431e+09\n",
       "1               1.3   46205   38077.151217  -38075.851217  1.449770e+09\n",
       "2               1.5   37731   39967.143681  -39965.643681  1.597253e+09\n",
       "3               2.0   43525   44692.124842  -44690.124842  1.997207e+09\n",
       "4               2.2   39891   46582.117306  -46579.917306  2.169689e+09\n",
       "5               2.9   56642   53197.090931  -53194.190931  2.829622e+09\n",
       "6               3.0   60150   54142.087163  -54139.087163  2.931041e+09\n",
       "7               3.2   54445   56032.079627  -56028.879627  3.139235e+09\n",
       "8               3.2   64445   56032.079627  -56028.879627  3.139235e+09\n",
       "9               3.7   57189   60757.060788  -60753.360788  3.690971e+09\n",
       "10              3.9   63218   62647.053252  -62643.153252  3.924165e+09\n",
       "11              4.0   55794   63592.049484  -63588.049484  4.043440e+09\n",
       "12              4.0   56957   63592.049484  -63588.049484  4.043440e+09\n",
       "13              4.1   57081   64537.045717  -64532.945717  4.164501e+09\n",
       "14              4.5   61111   68317.030645  -68312.530645  4.666602e+09\n",
       "15              4.9   67938   72097.015574  -72092.115574  5.197273e+09\n",
       "16              5.1   66029   73987.008038  -73981.908038  5.473323e+09\n",
       "17              5.3   83088   75877.000502  -75871.700502  5.756515e+09\n",
       "18              5.9   81363   81546.977895  -81541.077895  6.648947e+09\n",
       "19              6.0   93940   82491.974127  -82485.974127  6.803936e+09\n",
       "20              6.8   91738   90051.943985  -90045.143985  8.108128e+09\n",
       "21              7.1   98273   92886.932681  -92879.832681  8.626663e+09\n",
       "22              7.9  101302  100446.902538 -100439.002538  1.008799e+10\n",
       "23              8.2  113812  103281.891235 -103273.691235  1.066546e+10\n",
       "24              8.7  109431  108006.872395 -107998.172395  1.166361e+10\n",
       "25              9.0  105582  110841.861092 -110832.861092  1.228392e+10\n",
       "26              9.5  116969  115566.842252 -115557.342252  1.335350e+10\n",
       "27              9.6  112635  116511.838485 -116502.238485  1.357277e+10\n",
       "28             10.3  122391  123126.812110 -123116.512110  1.515768e+10\n",
       "29             10.5  121872  125016.804574 -125006.304574  1.562658e+10"
      ]
     },
     "execution_count": 169,
     "metadata": {},
     "output_type": "execute_result"
    }
   ],
   "source": [
    "df"
   ]
  },
  {
   "cell_type": "code",
   "execution_count": 172,
   "id": "822ca718",
   "metadata": {},
   "outputs": [],
   "source": [
    "#the Residuals sum of a sqr\n",
    "rss=df.error2.sum()"
   ]
  },
  {
   "cell_type": "code",
   "execution_count": 173,
   "id": "6d4952d0",
   "metadata": {},
   "outputs": [
    {
     "data": {
      "text/plain": [
       "194121886728.83157"
      ]
     },
     "execution_count": 173,
     "metadata": {},
     "output_type": "execute_result"
    }
   ],
   "source": [
    "rss"
   ]
  },
  {
   "cell_type": "code",
   "execution_count": 175,
   "id": "a297fcda",
   "metadata": {},
   "outputs": [
    {
     "data": {
      "text/plain": [
       "76003.0"
      ]
     },
     "execution_count": 175,
     "metadata": {},
     "output_type": "execute_result"
    }
   ],
   "source": [
    "df.Salary.mean()"
   ]
  },
  {
   "cell_type": "code",
   "execution_count": null,
   "id": "97b25e4b",
   "metadata": {},
   "outputs": [],
   "source": []
  }
 ],
 "metadata": {
  "kernelspec": {
   "display_name": "Python 3 (ipykernel)",
   "language": "python",
   "name": "python3"
  },
  "language_info": {
   "codemirror_mode": {
    "name": "ipython",
    "version": 3
   },
   "file_extension": ".py",
   "mimetype": "text/x-python",
   "name": "python",
   "nbconvert_exporter": "python",
   "pygments_lexer": "ipython3",
   "version": "3.9.7"
  }
 },
 "nbformat": 4,
 "nbformat_minor": 5
}
